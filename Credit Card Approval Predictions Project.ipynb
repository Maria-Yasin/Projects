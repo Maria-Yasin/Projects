{
 "cells": [
  {
   "cell_type": "markdown",
   "id": "03cbd12e",
   "metadata": {},
   "source": [
    "# Predicting Credit Card Approvals\n",
    " "
   ]
  },
  {
   "cell_type": "markdown",
   "id": "49ef6e82",
   "metadata": {},
   "source": [
    "## Maria Yasin\n",
    "## 18716929"
   ]
  },
  {
   "cell_type": "code",
   "execution_count": 235,
   "id": "5cee33e4",
   "metadata": {},
   "outputs": [],
   "source": [
    "#Importing essential libraries\n",
    "import pandas as pd\n",
    "import numpy as np\n",
    "import matplotlib\n",
    "import matplotlib.pyplot as plt\n",
    "%matplotlib inline\n",
    "import statsmodels.formula.api as smf \n",
    "from sklearn. impute import SimpleImputer\n",
    "import seaborn as sns\n",
    "from sklearn.model_selection import train_test_split\n",
    "from sklearn.linear_model import LogisticRegression"
   ]
  },
  {
   "cell_type": "markdown",
   "id": "d57063d2",
   "metadata": {},
   "source": [
    "### Task 1"
   ]
  },
  {
   "cell_type": "code",
   "execution_count": 236,
   "id": "dd4fd42e",
   "metadata": {},
   "outputs": [
    {
     "data": {
      "text/html": [
       "<div>\n",
       "<style scoped>\n",
       "    .dataframe tbody tr th:only-of-type {\n",
       "        vertical-align: middle;\n",
       "    }\n",
       "\n",
       "    .dataframe tbody tr th {\n",
       "        vertical-align: top;\n",
       "    }\n",
       "\n",
       "    .dataframe thead th {\n",
       "        text-align: right;\n",
       "    }\n",
       "</style>\n",
       "<table border=\"1\" class=\"dataframe\">\n",
       "  <thead>\n",
       "    <tr style=\"text-align: right;\">\n",
       "      <th></th>\n",
       "      <th>Gender</th>\n",
       "      <th>Age</th>\n",
       "      <th>Debt</th>\n",
       "      <th>Married</th>\n",
       "      <th>BankCustomer</th>\n",
       "      <th>EducationLevel</th>\n",
       "      <th>Ethnicity</th>\n",
       "      <th>YearsEmployed</th>\n",
       "      <th>PriorDefault</th>\n",
       "      <th>Employed</th>\n",
       "      <th>CreditScore</th>\n",
       "      <th>DriversLicense</th>\n",
       "      <th>Citizen</th>\n",
       "      <th>ZipCode</th>\n",
       "      <th>Income</th>\n",
       "      <th>Approved</th>\n",
       "    </tr>\n",
       "  </thead>\n",
       "  <tbody>\n",
       "    <tr>\n",
       "      <th>0</th>\n",
       "      <td>b</td>\n",
       "      <td>30.83</td>\n",
       "      <td>0.000</td>\n",
       "      <td>u</td>\n",
       "      <td>g</td>\n",
       "      <td>w</td>\n",
       "      <td>v</td>\n",
       "      <td>1.25</td>\n",
       "      <td>t</td>\n",
       "      <td>t</td>\n",
       "      <td>1</td>\n",
       "      <td>f</td>\n",
       "      <td>g</td>\n",
       "      <td>00202</td>\n",
       "      <td>0</td>\n",
       "      <td>+</td>\n",
       "    </tr>\n",
       "    <tr>\n",
       "      <th>1</th>\n",
       "      <td>a</td>\n",
       "      <td>58.67</td>\n",
       "      <td>4.460</td>\n",
       "      <td>u</td>\n",
       "      <td>g</td>\n",
       "      <td>q</td>\n",
       "      <td>h</td>\n",
       "      <td>3.04</td>\n",
       "      <td>t</td>\n",
       "      <td>t</td>\n",
       "      <td>6</td>\n",
       "      <td>f</td>\n",
       "      <td>g</td>\n",
       "      <td>00043</td>\n",
       "      <td>560</td>\n",
       "      <td>+</td>\n",
       "    </tr>\n",
       "    <tr>\n",
       "      <th>2</th>\n",
       "      <td>a</td>\n",
       "      <td>24.50</td>\n",
       "      <td>0.500</td>\n",
       "      <td>u</td>\n",
       "      <td>g</td>\n",
       "      <td>q</td>\n",
       "      <td>h</td>\n",
       "      <td>1.50</td>\n",
       "      <td>t</td>\n",
       "      <td>f</td>\n",
       "      <td>0</td>\n",
       "      <td>f</td>\n",
       "      <td>g</td>\n",
       "      <td>00280</td>\n",
       "      <td>824</td>\n",
       "      <td>+</td>\n",
       "    </tr>\n",
       "    <tr>\n",
       "      <th>3</th>\n",
       "      <td>b</td>\n",
       "      <td>27.83</td>\n",
       "      <td>1.540</td>\n",
       "      <td>u</td>\n",
       "      <td>g</td>\n",
       "      <td>w</td>\n",
       "      <td>v</td>\n",
       "      <td>3.75</td>\n",
       "      <td>t</td>\n",
       "      <td>t</td>\n",
       "      <td>5</td>\n",
       "      <td>t</td>\n",
       "      <td>g</td>\n",
       "      <td>00100</td>\n",
       "      <td>3</td>\n",
       "      <td>+</td>\n",
       "    </tr>\n",
       "    <tr>\n",
       "      <th>4</th>\n",
       "      <td>b</td>\n",
       "      <td>20.17</td>\n",
       "      <td>5.625</td>\n",
       "      <td>u</td>\n",
       "      <td>g</td>\n",
       "      <td>w</td>\n",
       "      <td>v</td>\n",
       "      <td>1.71</td>\n",
       "      <td>t</td>\n",
       "      <td>f</td>\n",
       "      <td>0</td>\n",
       "      <td>f</td>\n",
       "      <td>s</td>\n",
       "      <td>00120</td>\n",
       "      <td>0</td>\n",
       "      <td>+</td>\n",
       "    </tr>\n",
       "  </tbody>\n",
       "</table>\n",
       "</div>"
      ],
      "text/plain": [
       "  Gender    Age   Debt Married BankCustomer EducationLevel Ethnicity  \\\n",
       "0      b  30.83  0.000       u            g              w         v   \n",
       "1      a  58.67  4.460       u            g              q         h   \n",
       "2      a  24.50  0.500       u            g              q         h   \n",
       "3      b  27.83  1.540       u            g              w         v   \n",
       "4      b  20.17  5.625       u            g              w         v   \n",
       "\n",
       "   YearsEmployed PriorDefault Employed  CreditScore DriversLicense Citizen  \\\n",
       "0           1.25            t        t            1              f       g   \n",
       "1           3.04            t        t            6              f       g   \n",
       "2           1.50            t        f            0              f       g   \n",
       "3           3.75            t        t            5              t       g   \n",
       "4           1.71            t        f            0              f       s   \n",
       "\n",
       "  ZipCode  Income Approved  \n",
       "0   00202       0        +  \n",
       "1   00043     560        +  \n",
       "2   00280     824        +  \n",
       "3   00100       3        +  \n",
       "4   00120       0        +  "
      ]
     },
     "execution_count": 236,
     "metadata": {},
     "output_type": "execute_result"
    }
   ],
   "source": [
    "#Load the dataset\n",
    "cc_data = pd.read_csv('cc_approvals.data')\n",
    "cc_data.head()"
   ]
  },
  {
   "cell_type": "code",
   "execution_count": 237,
   "id": "0cdfe17a",
   "metadata": {},
   "outputs": [
    {
     "data": {
      "text/html": [
       "<div>\n",
       "<style scoped>\n",
       "    .dataframe tbody tr th:only-of-type {\n",
       "        vertical-align: middle;\n",
       "    }\n",
       "\n",
       "    .dataframe tbody tr th {\n",
       "        vertical-align: top;\n",
       "    }\n",
       "\n",
       "    .dataframe thead th {\n",
       "        text-align: right;\n",
       "    }\n",
       "</style>\n",
       "<table border=\"1\" class=\"dataframe\">\n",
       "  <thead>\n",
       "    <tr style=\"text-align: right;\">\n",
       "      <th></th>\n",
       "      <th>Debt</th>\n",
       "      <th>YearsEmployed</th>\n",
       "      <th>CreditScore</th>\n",
       "      <th>Income</th>\n",
       "    </tr>\n",
       "  </thead>\n",
       "  <tbody>\n",
       "    <tr>\n",
       "      <th>count</th>\n",
       "      <td>690.000000</td>\n",
       "      <td>690.000000</td>\n",
       "      <td>690.00000</td>\n",
       "      <td>690.000000</td>\n",
       "    </tr>\n",
       "    <tr>\n",
       "      <th>mean</th>\n",
       "      <td>4.758725</td>\n",
       "      <td>2.223406</td>\n",
       "      <td>2.40000</td>\n",
       "      <td>1017.385507</td>\n",
       "    </tr>\n",
       "    <tr>\n",
       "      <th>std</th>\n",
       "      <td>4.978163</td>\n",
       "      <td>3.346513</td>\n",
       "      <td>4.86294</td>\n",
       "      <td>5210.102598</td>\n",
       "    </tr>\n",
       "    <tr>\n",
       "      <th>min</th>\n",
       "      <td>0.000000</td>\n",
       "      <td>0.000000</td>\n",
       "      <td>0.00000</td>\n",
       "      <td>0.000000</td>\n",
       "    </tr>\n",
       "    <tr>\n",
       "      <th>25%</th>\n",
       "      <td>1.000000</td>\n",
       "      <td>0.165000</td>\n",
       "      <td>0.00000</td>\n",
       "      <td>0.000000</td>\n",
       "    </tr>\n",
       "    <tr>\n",
       "      <th>50%</th>\n",
       "      <td>2.750000</td>\n",
       "      <td>1.000000</td>\n",
       "      <td>0.00000</td>\n",
       "      <td>5.000000</td>\n",
       "    </tr>\n",
       "    <tr>\n",
       "      <th>75%</th>\n",
       "      <td>7.207500</td>\n",
       "      <td>2.625000</td>\n",
       "      <td>3.00000</td>\n",
       "      <td>395.500000</td>\n",
       "    </tr>\n",
       "    <tr>\n",
       "      <th>max</th>\n",
       "      <td>28.000000</td>\n",
       "      <td>28.500000</td>\n",
       "      <td>67.00000</td>\n",
       "      <td>100000.000000</td>\n",
       "    </tr>\n",
       "  </tbody>\n",
       "</table>\n",
       "</div>"
      ],
      "text/plain": [
       "             Debt  YearsEmployed  CreditScore         Income\n",
       "count  690.000000     690.000000    690.00000     690.000000\n",
       "mean     4.758725       2.223406      2.40000    1017.385507\n",
       "std      4.978163       3.346513      4.86294    5210.102598\n",
       "min      0.000000       0.000000      0.00000       0.000000\n",
       "25%      1.000000       0.165000      0.00000       0.000000\n",
       "50%      2.750000       1.000000      0.00000       5.000000\n",
       "75%      7.207500       2.625000      3.00000     395.500000\n",
       "max     28.000000      28.500000     67.00000  100000.000000"
      ]
     },
     "execution_count": 237,
     "metadata": {},
     "output_type": "execute_result"
    }
   ],
   "source": [
    "#Data description and summary statistics\n",
    "cc_data.describe()"
   ]
  },
  {
   "cell_type": "markdown",
   "id": "bc7aa659",
   "metadata": {},
   "source": [
    "### Task 2"
   ]
  },
  {
   "cell_type": "code",
   "execution_count": 238,
   "id": "2c0c39dc",
   "metadata": {},
   "outputs": [],
   "source": [
    "#Remove unnecessary columns\n",
    "cc_data = cc_data.drop(columns = ['DriversLicense','ZipCode'])"
   ]
  },
  {
   "cell_type": "markdown",
   "id": "f14f2430",
   "metadata": {},
   "source": [
    "### Task 3"
   ]
  },
  {
   "cell_type": "code",
   "execution_count": 239,
   "id": "ab03ced0",
   "metadata": {},
   "outputs": [
    {
     "data": {
      "text/plain": [
       "Gender            False\n",
       "Age               False\n",
       "Debt               True\n",
       "Married           False\n",
       "BankCustomer      False\n",
       "EducationLevel    False\n",
       "Ethnicity         False\n",
       "YearsEmployed      True\n",
       "PriorDefault      False\n",
       "Employed          False\n",
       "CreditScore        True\n",
       "Citizen           False\n",
       "Income             True\n",
       "Approved          False\n",
       "dtype: bool"
      ]
     },
     "execution_count": 239,
     "metadata": {},
     "output_type": "execute_result"
    }
   ],
   "source": [
    "#Check for the columns with 0s\n",
    "(cc_data.eq(0)).any()"
   ]
  },
  {
   "cell_type": "code",
   "execution_count": 240,
   "id": "c73881c5",
   "metadata": {},
   "outputs": [],
   "source": [
    "#Replace all the 0s with NaNs\n",
    "cc_data = cc_data.replace(0, np.nan)"
   ]
  },
  {
   "cell_type": "code",
   "execution_count": 241,
   "id": "a74c1d63",
   "metadata": {},
   "outputs": [
    {
     "data": {
      "text/html": [
       "<div>\n",
       "<style scoped>\n",
       "    .dataframe tbody tr th:only-of-type {\n",
       "        vertical-align: middle;\n",
       "    }\n",
       "\n",
       "    .dataframe tbody tr th {\n",
       "        vertical-align: top;\n",
       "    }\n",
       "\n",
       "    .dataframe thead th {\n",
       "        text-align: right;\n",
       "    }\n",
       "</style>\n",
       "<table border=\"1\" class=\"dataframe\">\n",
       "  <thead>\n",
       "    <tr style=\"text-align: right;\">\n",
       "      <th></th>\n",
       "      <th>Gender</th>\n",
       "      <th>Age</th>\n",
       "      <th>Debt</th>\n",
       "      <th>Married</th>\n",
       "      <th>BankCustomer</th>\n",
       "      <th>EducationLevel</th>\n",
       "      <th>Ethnicity</th>\n",
       "      <th>YearsEmployed</th>\n",
       "      <th>PriorDefault</th>\n",
       "      <th>Employed</th>\n",
       "      <th>CreditScore</th>\n",
       "      <th>Citizen</th>\n",
       "      <th>Income</th>\n",
       "      <th>Approved</th>\n",
       "    </tr>\n",
       "  </thead>\n",
       "  <tbody>\n",
       "    <tr>\n",
       "      <th>0</th>\n",
       "      <td>b</td>\n",
       "      <td>30.83</td>\n",
       "      <td>4.893472</td>\n",
       "      <td>u</td>\n",
       "      <td>g</td>\n",
       "      <td>w</td>\n",
       "      <td>v</td>\n",
       "      <td>1.25</td>\n",
       "      <td>t</td>\n",
       "      <td>t</td>\n",
       "      <td>1.000000</td>\n",
       "      <td>g</td>\n",
       "      <td>1777.205063</td>\n",
       "      <td>+</td>\n",
       "    </tr>\n",
       "    <tr>\n",
       "      <th>1</th>\n",
       "      <td>a</td>\n",
       "      <td>58.67</td>\n",
       "      <td>4.460000</td>\n",
       "      <td>u</td>\n",
       "      <td>g</td>\n",
       "      <td>q</td>\n",
       "      <td>h</td>\n",
       "      <td>3.04</td>\n",
       "      <td>t</td>\n",
       "      <td>t</td>\n",
       "      <td>6.000000</td>\n",
       "      <td>g</td>\n",
       "      <td>560.000000</td>\n",
       "      <td>+</td>\n",
       "    </tr>\n",
       "    <tr>\n",
       "      <th>2</th>\n",
       "      <td>a</td>\n",
       "      <td>24.50</td>\n",
       "      <td>0.500000</td>\n",
       "      <td>u</td>\n",
       "      <td>g</td>\n",
       "      <td>q</td>\n",
       "      <td>h</td>\n",
       "      <td>1.50</td>\n",
       "      <td>t</td>\n",
       "      <td>f</td>\n",
       "      <td>5.613559</td>\n",
       "      <td>g</td>\n",
       "      <td>824.000000</td>\n",
       "      <td>+</td>\n",
       "    </tr>\n",
       "    <tr>\n",
       "      <th>3</th>\n",
       "      <td>b</td>\n",
       "      <td>27.83</td>\n",
       "      <td>1.540000</td>\n",
       "      <td>u</td>\n",
       "      <td>g</td>\n",
       "      <td>w</td>\n",
       "      <td>v</td>\n",
       "      <td>3.75</td>\n",
       "      <td>t</td>\n",
       "      <td>t</td>\n",
       "      <td>5.000000</td>\n",
       "      <td>g</td>\n",
       "      <td>3.000000</td>\n",
       "      <td>+</td>\n",
       "    </tr>\n",
       "    <tr>\n",
       "      <th>4</th>\n",
       "      <td>b</td>\n",
       "      <td>20.17</td>\n",
       "      <td>5.625000</td>\n",
       "      <td>u</td>\n",
       "      <td>g</td>\n",
       "      <td>w</td>\n",
       "      <td>v</td>\n",
       "      <td>1.71</td>\n",
       "      <td>t</td>\n",
       "      <td>f</td>\n",
       "      <td>5.613559</td>\n",
       "      <td>s</td>\n",
       "      <td>1777.205063</td>\n",
       "      <td>+</td>\n",
       "    </tr>\n",
       "  </tbody>\n",
       "</table>\n",
       "</div>"
      ],
      "text/plain": [
       "  Gender    Age      Debt Married BankCustomer EducationLevel Ethnicity  \\\n",
       "0      b  30.83  4.893472       u            g              w         v   \n",
       "1      a  58.67  4.460000       u            g              q         h   \n",
       "2      a  24.50  0.500000       u            g              q         h   \n",
       "3      b  27.83  1.540000       u            g              w         v   \n",
       "4      b  20.17  5.625000       u            g              w         v   \n",
       "\n",
       "   YearsEmployed PriorDefault Employed  CreditScore Citizen       Income  \\\n",
       "0           1.25            t        t     1.000000       g  1777.205063   \n",
       "1           3.04            t        t     6.000000       g   560.000000   \n",
       "2           1.50            t        f     5.613559       g   824.000000   \n",
       "3           3.75            t        t     5.000000       g     3.000000   \n",
       "4           1.71            t        f     5.613559       s  1777.205063   \n",
       "\n",
       "  Approved  \n",
       "0        +  \n",
       "1        +  \n",
       "2        +  \n",
       "3        +  \n",
       "4        +  "
      ]
     },
     "execution_count": 241,
     "metadata": {},
     "output_type": "execute_result"
    }
   ],
   "source": [
    "#Replace all NaN values with mean \n",
    "cc_data = cc_data.fillna(cc_data[['Debt', 'YearsEmployed', 'CreditScore', 'Income']].mean())\n",
    "cc_data.head()"
   ]
  },
  {
   "cell_type": "markdown",
   "id": "7509222d",
   "metadata": {},
   "source": [
    "### Task 4"
   ]
  },
  {
   "cell_type": "code",
   "execution_count": 242,
   "id": "c295ba80",
   "metadata": {},
   "outputs": [
    {
     "data": {
      "text/plain": [
       "Gender             True\n",
       "Age                True\n",
       "Debt              False\n",
       "Married            True\n",
       "BankCustomer       True\n",
       "EducationLevel     True\n",
       "Ethnicity          True\n",
       "YearsEmployed     False\n",
       "PriorDefault      False\n",
       "Employed          False\n",
       "CreditScore       False\n",
       "Citizen           False\n",
       "Income            False\n",
       "Approved          False\n",
       "dtype: bool"
      ]
     },
     "execution_count": 242,
     "metadata": {},
     "output_type": "execute_result"
    }
   ],
   "source": [
    "#Check for the columns with '?'\n",
    "(cc_data.eq('?')).any()"
   ]
  },
  {
   "cell_type": "code",
   "execution_count": 243,
   "id": "a9104983",
   "metadata": {},
   "outputs": [],
   "source": [
    "#Replace all the ?s with NaNs\n",
    "cc_data = cc_data.replace('?', np.nan)"
   ]
  },
  {
   "cell_type": "code",
   "execution_count": 244,
   "id": "f8e73d4b",
   "metadata": {},
   "outputs": [
    {
     "data": {
      "text/plain": [
       "True"
      ]
     },
     "execution_count": 244,
     "metadata": {},
     "output_type": "execute_result"
    }
   ],
   "source": [
    "cc_data.isnull().values.any()"
   ]
  },
  {
   "cell_type": "code",
   "execution_count": 245,
   "id": "20565ab0",
   "metadata": {},
   "outputs": [
    {
     "name": "stderr",
     "output_type": "stream",
     "text": [
      "C:\\Users\\35383\\anaconda3\\lib\\site-packages\\sklearn\\base.py:450: UserWarning: X does not have valid feature names, but SimpleImputer was fitted with feature names\n",
      "  warnings.warn(\n"
     ]
    }
   ],
   "source": [
    "#Replace all NaN values with most frequent for Gender column  \n",
    "imputer_gender = SimpleImputer( strategy='most_frequent')\n",
    "imputer_gender = imputer_gender.fit(cc_data[['Gender']]) \n",
    "cc_data['Gender'] = imputer_gender.transform(cc_data[['Gender']].values)"
   ]
  },
  {
   "cell_type": "code",
   "execution_count": 246,
   "id": "6feca720",
   "metadata": {},
   "outputs": [
    {
     "name": "stderr",
     "output_type": "stream",
     "text": [
      "C:\\Users\\35383\\anaconda3\\lib\\site-packages\\sklearn\\base.py:450: UserWarning: X does not have valid feature names, but SimpleImputer was fitted with feature names\n",
      "  warnings.warn(\n"
     ]
    }
   ],
   "source": [
    "#Replace all NaN values with most frequent for Married column  \n",
    "imputer_Married = SimpleImputer( strategy='most_frequent')\n",
    "imputer_Married = imputer_Married.fit(cc_data[['Married']]) \n",
    "cc_data['Married'] = imputer_Married.transform(cc_data[['Married']].values)"
   ]
  },
  {
   "cell_type": "code",
   "execution_count": 247,
   "id": "ac3f2fb1",
   "metadata": {},
   "outputs": [
    {
     "name": "stderr",
     "output_type": "stream",
     "text": [
      "C:\\Users\\35383\\anaconda3\\lib\\site-packages\\sklearn\\base.py:450: UserWarning: X does not have valid feature names, but SimpleImputer was fitted with feature names\n",
      "  warnings.warn(\n"
     ]
    }
   ],
   "source": [
    "#Replace all NaN values with most frequent for BankCustomer column \n",
    "imputer_BankCustomer = SimpleImputer( strategy='most_frequent')\n",
    "imputer_BankCustomer = imputer_BankCustomer.fit(cc_data[['BankCustomer']]) \n",
    "cc_data['BankCustomer'] = imputer_BankCustomer.transform(cc_data[['BankCustomer']].values)"
   ]
  },
  {
   "cell_type": "code",
   "execution_count": 248,
   "id": "da639c28",
   "metadata": {},
   "outputs": [
    {
     "name": "stderr",
     "output_type": "stream",
     "text": [
      "C:\\Users\\35383\\anaconda3\\lib\\site-packages\\sklearn\\base.py:450: UserWarning: X does not have valid feature names, but SimpleImputer was fitted with feature names\n",
      "  warnings.warn(\n"
     ]
    }
   ],
   "source": [
    "#Replace all NaN values with most frequent for EducationLevel column \n",
    "imputer_EducationLevel = SimpleImputer( strategy='most_frequent')\n",
    "imputer_EducationLevel = imputer_EducationLevel.fit(cc_data[['EducationLevel']]) \n",
    "cc_data['EducationLevel'] = imputer_EducationLevel.transform(cc_data[['EducationLevel']].values)"
   ]
  },
  {
   "cell_type": "code",
   "execution_count": 249,
   "id": "971ce146",
   "metadata": {},
   "outputs": [
    {
     "name": "stderr",
     "output_type": "stream",
     "text": [
      "C:\\Users\\35383\\anaconda3\\lib\\site-packages\\sklearn\\base.py:450: UserWarning: X does not have valid feature names, but SimpleImputer was fitted with feature names\n",
      "  warnings.warn(\n"
     ]
    }
   ],
   "source": [
    "#Replace all NaN values with most frequent for Ethnicity column \n",
    "imputer_Ethnicity = SimpleImputer( strategy='most_frequent')\n",
    "imputer_Ethnicity = imputer_Ethnicity.fit(cc_data[['Ethnicity']]) \n",
    "cc_data['Ethnicity'] = imputer_Ethnicity.transform(cc_data[['Ethnicity']].values)"
   ]
  },
  {
   "cell_type": "code",
   "execution_count": 250,
   "id": "79ee8dcd",
   "metadata": {},
   "outputs": [
    {
     "name": "stderr",
     "output_type": "stream",
     "text": [
      "C:\\Users\\35383\\anaconda3\\lib\\site-packages\\sklearn\\base.py:450: UserWarning: X does not have valid feature names, but SimpleImputer was fitted with feature names\n",
      "  warnings.warn(\n"
     ]
    }
   ],
   "source": [
    "#Replace all NaN values with most frequent for Age column \n",
    "imputer_Age = SimpleImputer( strategy='most_frequent')\n",
    "imputer_Age = imputer_Age.fit(cc_data[['Age']]) \n",
    "cc_data['Age'] = imputer_Age.transform(cc_data[['Age']].values)"
   ]
  },
  {
   "cell_type": "code",
   "execution_count": 251,
   "id": "b4a5b1d7",
   "metadata": {},
   "outputs": [
    {
     "data": {
      "text/plain": [
       "False"
      ]
     },
     "execution_count": 251,
     "metadata": {},
     "output_type": "execute_result"
    }
   ],
   "source": [
    "#Check for any na values again\n",
    "cc_data.isnull().values.any()"
   ]
  },
  {
   "cell_type": "code",
   "execution_count": 252,
   "id": "ea4ba405",
   "metadata": {},
   "outputs": [
    {
     "data": {
      "text/html": [
       "<div>\n",
       "<style scoped>\n",
       "    .dataframe tbody tr th:only-of-type {\n",
       "        vertical-align: middle;\n",
       "    }\n",
       "\n",
       "    .dataframe tbody tr th {\n",
       "        vertical-align: top;\n",
       "    }\n",
       "\n",
       "    .dataframe thead th {\n",
       "        text-align: right;\n",
       "    }\n",
       "</style>\n",
       "<table border=\"1\" class=\"dataframe\">\n",
       "  <thead>\n",
       "    <tr style=\"text-align: right;\">\n",
       "      <th></th>\n",
       "      <th>Gender</th>\n",
       "      <th>Age</th>\n",
       "      <th>Debt</th>\n",
       "      <th>Married</th>\n",
       "      <th>BankCustomer</th>\n",
       "      <th>EducationLevel</th>\n",
       "      <th>Ethnicity</th>\n",
       "      <th>YearsEmployed</th>\n",
       "      <th>PriorDefault</th>\n",
       "      <th>Employed</th>\n",
       "      <th>CreditScore</th>\n",
       "      <th>Citizen</th>\n",
       "      <th>Income</th>\n",
       "      <th>Approved</th>\n",
       "    </tr>\n",
       "  </thead>\n",
       "  <tbody>\n",
       "    <tr>\n",
       "      <th>0</th>\n",
       "      <td>b</td>\n",
       "      <td>30.83</td>\n",
       "      <td>4.893472</td>\n",
       "      <td>u</td>\n",
       "      <td>g</td>\n",
       "      <td>w</td>\n",
       "      <td>v</td>\n",
       "      <td>1.25</td>\n",
       "      <td>t</td>\n",
       "      <td>t</td>\n",
       "      <td>1.000000</td>\n",
       "      <td>g</td>\n",
       "      <td>1777.205063</td>\n",
       "      <td>+</td>\n",
       "    </tr>\n",
       "    <tr>\n",
       "      <th>1</th>\n",
       "      <td>a</td>\n",
       "      <td>58.67</td>\n",
       "      <td>4.460000</td>\n",
       "      <td>u</td>\n",
       "      <td>g</td>\n",
       "      <td>q</td>\n",
       "      <td>h</td>\n",
       "      <td>3.04</td>\n",
       "      <td>t</td>\n",
       "      <td>t</td>\n",
       "      <td>6.000000</td>\n",
       "      <td>g</td>\n",
       "      <td>560.000000</td>\n",
       "      <td>+</td>\n",
       "    </tr>\n",
       "    <tr>\n",
       "      <th>2</th>\n",
       "      <td>a</td>\n",
       "      <td>24.50</td>\n",
       "      <td>0.500000</td>\n",
       "      <td>u</td>\n",
       "      <td>g</td>\n",
       "      <td>q</td>\n",
       "      <td>h</td>\n",
       "      <td>1.50</td>\n",
       "      <td>t</td>\n",
       "      <td>f</td>\n",
       "      <td>5.613559</td>\n",
       "      <td>g</td>\n",
       "      <td>824.000000</td>\n",
       "      <td>+</td>\n",
       "    </tr>\n",
       "    <tr>\n",
       "      <th>3</th>\n",
       "      <td>b</td>\n",
       "      <td>27.83</td>\n",
       "      <td>1.540000</td>\n",
       "      <td>u</td>\n",
       "      <td>g</td>\n",
       "      <td>w</td>\n",
       "      <td>v</td>\n",
       "      <td>3.75</td>\n",
       "      <td>t</td>\n",
       "      <td>t</td>\n",
       "      <td>5.000000</td>\n",
       "      <td>g</td>\n",
       "      <td>3.000000</td>\n",
       "      <td>+</td>\n",
       "    </tr>\n",
       "    <tr>\n",
       "      <th>4</th>\n",
       "      <td>b</td>\n",
       "      <td>20.17</td>\n",
       "      <td>5.625000</td>\n",
       "      <td>u</td>\n",
       "      <td>g</td>\n",
       "      <td>w</td>\n",
       "      <td>v</td>\n",
       "      <td>1.71</td>\n",
       "      <td>t</td>\n",
       "      <td>f</td>\n",
       "      <td>5.613559</td>\n",
       "      <td>s</td>\n",
       "      <td>1777.205063</td>\n",
       "      <td>+</td>\n",
       "    </tr>\n",
       "    <tr>\n",
       "      <th>...</th>\n",
       "      <td>...</td>\n",
       "      <td>...</td>\n",
       "      <td>...</td>\n",
       "      <td>...</td>\n",
       "      <td>...</td>\n",
       "      <td>...</td>\n",
       "      <td>...</td>\n",
       "      <td>...</td>\n",
       "      <td>...</td>\n",
       "      <td>...</td>\n",
       "      <td>...</td>\n",
       "      <td>...</td>\n",
       "      <td>...</td>\n",
       "      <td>...</td>\n",
       "    </tr>\n",
       "    <tr>\n",
       "      <th>685</th>\n",
       "      <td>b</td>\n",
       "      <td>21.08</td>\n",
       "      <td>10.085000</td>\n",
       "      <td>y</td>\n",
       "      <td>p</td>\n",
       "      <td>e</td>\n",
       "      <td>h</td>\n",
       "      <td>1.25</td>\n",
       "      <td>f</td>\n",
       "      <td>f</td>\n",
       "      <td>5.613559</td>\n",
       "      <td>g</td>\n",
       "      <td>1777.205063</td>\n",
       "      <td>-</td>\n",
       "    </tr>\n",
       "    <tr>\n",
       "      <th>686</th>\n",
       "      <td>a</td>\n",
       "      <td>22.67</td>\n",
       "      <td>0.750000</td>\n",
       "      <td>u</td>\n",
       "      <td>g</td>\n",
       "      <td>c</td>\n",
       "      <td>v</td>\n",
       "      <td>2.00</td>\n",
       "      <td>f</td>\n",
       "      <td>t</td>\n",
       "      <td>2.000000</td>\n",
       "      <td>g</td>\n",
       "      <td>394.000000</td>\n",
       "      <td>-</td>\n",
       "    </tr>\n",
       "    <tr>\n",
       "      <th>687</th>\n",
       "      <td>a</td>\n",
       "      <td>25.25</td>\n",
       "      <td>13.500000</td>\n",
       "      <td>y</td>\n",
       "      <td>p</td>\n",
       "      <td>ff</td>\n",
       "      <td>ff</td>\n",
       "      <td>2.00</td>\n",
       "      <td>f</td>\n",
       "      <td>t</td>\n",
       "      <td>1.000000</td>\n",
       "      <td>g</td>\n",
       "      <td>1.000000</td>\n",
       "      <td>-</td>\n",
       "    </tr>\n",
       "    <tr>\n",
       "      <th>688</th>\n",
       "      <td>b</td>\n",
       "      <td>17.92</td>\n",
       "      <td>0.205000</td>\n",
       "      <td>u</td>\n",
       "      <td>g</td>\n",
       "      <td>aa</td>\n",
       "      <td>v</td>\n",
       "      <td>0.04</td>\n",
       "      <td>f</td>\n",
       "      <td>f</td>\n",
       "      <td>5.613559</td>\n",
       "      <td>g</td>\n",
       "      <td>750.000000</td>\n",
       "      <td>-</td>\n",
       "    </tr>\n",
       "    <tr>\n",
       "      <th>689</th>\n",
       "      <td>b</td>\n",
       "      <td>35.00</td>\n",
       "      <td>3.375000</td>\n",
       "      <td>u</td>\n",
       "      <td>g</td>\n",
       "      <td>c</td>\n",
       "      <td>h</td>\n",
       "      <td>8.29</td>\n",
       "      <td>f</td>\n",
       "      <td>f</td>\n",
       "      <td>5.613559</td>\n",
       "      <td>g</td>\n",
       "      <td>1777.205063</td>\n",
       "      <td>-</td>\n",
       "    </tr>\n",
       "  </tbody>\n",
       "</table>\n",
       "<p>690 rows × 14 columns</p>\n",
       "</div>"
      ],
      "text/plain": [
       "    Gender    Age       Debt Married BankCustomer EducationLevel Ethnicity  \\\n",
       "0        b  30.83   4.893472       u            g              w         v   \n",
       "1        a  58.67   4.460000       u            g              q         h   \n",
       "2        a  24.50   0.500000       u            g              q         h   \n",
       "3        b  27.83   1.540000       u            g              w         v   \n",
       "4        b  20.17   5.625000       u            g              w         v   \n",
       "..     ...    ...        ...     ...          ...            ...       ...   \n",
       "685      b  21.08  10.085000       y            p              e         h   \n",
       "686      a  22.67   0.750000       u            g              c         v   \n",
       "687      a  25.25  13.500000       y            p             ff        ff   \n",
       "688      b  17.92   0.205000       u            g             aa         v   \n",
       "689      b  35.00   3.375000       u            g              c         h   \n",
       "\n",
       "     YearsEmployed PriorDefault Employed  CreditScore Citizen       Income  \\\n",
       "0             1.25            t        t     1.000000       g  1777.205063   \n",
       "1             3.04            t        t     6.000000       g   560.000000   \n",
       "2             1.50            t        f     5.613559       g   824.000000   \n",
       "3             3.75            t        t     5.000000       g     3.000000   \n",
       "4             1.71            t        f     5.613559       s  1777.205063   \n",
       "..             ...          ...      ...          ...     ...          ...   \n",
       "685           1.25            f        f     5.613559       g  1777.205063   \n",
       "686           2.00            f        t     2.000000       g   394.000000   \n",
       "687           2.00            f        t     1.000000       g     1.000000   \n",
       "688           0.04            f        f     5.613559       g   750.000000   \n",
       "689           8.29            f        f     5.613559       g  1777.205063   \n",
       "\n",
       "    Approved  \n",
       "0          +  \n",
       "1          +  \n",
       "2          +  \n",
       "3          +  \n",
       "4          +  \n",
       "..       ...  \n",
       "685        -  \n",
       "686        -  \n",
       "687        -  \n",
       "688        -  \n",
       "689        -  \n",
       "\n",
       "[690 rows x 14 columns]"
      ]
     },
     "execution_count": 252,
     "metadata": {},
     "output_type": "execute_result"
    }
   ],
   "source": [
    "#cleaned dataframe\n",
    "cc_data"
   ]
  },
  {
   "cell_type": "code",
   "execution_count": 253,
   "id": "bcf81de8",
   "metadata": {},
   "outputs": [
    {
     "data": {
      "text/plain": [
       "Gender             object\n",
       "Age                object\n",
       "Debt              float64\n",
       "Married            object\n",
       "BankCustomer       object\n",
       "EducationLevel     object\n",
       "Ethnicity          object\n",
       "YearsEmployed     float64\n",
       "PriorDefault       object\n",
       "Employed           object\n",
       "CreditScore       float64\n",
       "Citizen            object\n",
       "Income            float64\n",
       "Approved           object\n",
       "dtype: object"
      ]
     },
     "execution_count": 253,
     "metadata": {},
     "output_type": "execute_result"
    }
   ],
   "source": [
    "cc_data.dtypes"
   ]
  },
  {
   "cell_type": "markdown",
   "id": "fa72e007",
   "metadata": {},
   "source": [
    "#### Converting categorical variables to numerical for logistic regression"
   ]
  },
  {
   "cell_type": "code",
   "execution_count": 254,
   "id": "308fb566",
   "metadata": {},
   "outputs": [],
   "source": [
    "cc_data['Gender'] = cc_data['Gender'].astype('category')\n",
    "cc_data['Gender'] = cc_data['Gender'].cat.codes"
   ]
  },
  {
   "cell_type": "code",
   "execution_count": 255,
   "id": "19706ad3",
   "metadata": {},
   "outputs": [],
   "source": [
    "cc_data['Married'] = cc_data['Married'].astype('category')\n",
    "cc_data['Married'] = cc_data['Married'].cat.codes"
   ]
  },
  {
   "cell_type": "code",
   "execution_count": 256,
   "id": "c3955daa",
   "metadata": {},
   "outputs": [],
   "source": [
    "cc_data['BankCustomer'] = cc_data['BankCustomer'].astype('category')\n",
    "cc_data['BankCustomer'] = cc_data['BankCustomer'].cat.codes"
   ]
  },
  {
   "cell_type": "code",
   "execution_count": 257,
   "id": "bed3f2b4",
   "metadata": {},
   "outputs": [],
   "source": [
    "cc_data['EducationLevel'] = cc_data['EducationLevel'].astype('category')\n",
    "cc_data['EducationLevel'] = cc_data['EducationLevel'].cat.codes"
   ]
  },
  {
   "cell_type": "code",
   "execution_count": 258,
   "id": "49bbaf4c",
   "metadata": {},
   "outputs": [],
   "source": [
    "cc_data['Ethnicity'] = cc_data['Ethnicity'].astype('category')\n",
    "cc_data['Ethnicity'] = cc_data['Ethnicity'].cat.codes"
   ]
  },
  {
   "cell_type": "code",
   "execution_count": 259,
   "id": "7ee19241",
   "metadata": {},
   "outputs": [],
   "source": [
    "cc_data['PriorDefault'] = cc_data['PriorDefault'].astype('category')\n",
    "cc_data['PriorDefault'] = cc_data['PriorDefault'].cat.codes"
   ]
  },
  {
   "cell_type": "code",
   "execution_count": 260,
   "id": "ef01ff9e",
   "metadata": {},
   "outputs": [],
   "source": [
    "cc_data['Employed'] = cc_data['Employed'].astype('category')\n",
    "cc_data['Employed'] = cc_data['Employed'].cat.codes"
   ]
  },
  {
   "cell_type": "code",
   "execution_count": 261,
   "id": "7cd8558f",
   "metadata": {},
   "outputs": [],
   "source": [
    "cc_data['Citizen'] = cc_data['Citizen'].astype('category')\n",
    "cc_data['Citizen'] = cc_data['Citizen'].cat.codes"
   ]
  },
  {
   "cell_type": "code",
   "execution_count": 262,
   "id": "53de84cb",
   "metadata": {},
   "outputs": [],
   "source": [
    "cc_data['Approved'] = cc_data['Approved'].map({'+': 1, '-': 0})"
   ]
  },
  {
   "cell_type": "code",
   "execution_count": 263,
   "id": "e660c4f3",
   "metadata": {},
   "outputs": [],
   "source": [
    "cc_data['Age'] = cc_data['Age'].astype('float')"
   ]
  },
  {
   "cell_type": "code",
   "execution_count": 264,
   "id": "118ebbec",
   "metadata": {},
   "outputs": [
    {
     "data": {
      "text/html": [
       "<div>\n",
       "<style scoped>\n",
       "    .dataframe tbody tr th:only-of-type {\n",
       "        vertical-align: middle;\n",
       "    }\n",
       "\n",
       "    .dataframe tbody tr th {\n",
       "        vertical-align: top;\n",
       "    }\n",
       "\n",
       "    .dataframe thead th {\n",
       "        text-align: right;\n",
       "    }\n",
       "</style>\n",
       "<table border=\"1\" class=\"dataframe\">\n",
       "  <thead>\n",
       "    <tr style=\"text-align: right;\">\n",
       "      <th></th>\n",
       "      <th>Gender</th>\n",
       "      <th>Age</th>\n",
       "      <th>Debt</th>\n",
       "      <th>Married</th>\n",
       "      <th>BankCustomer</th>\n",
       "      <th>EducationLevel</th>\n",
       "      <th>Ethnicity</th>\n",
       "      <th>YearsEmployed</th>\n",
       "      <th>PriorDefault</th>\n",
       "      <th>Employed</th>\n",
       "      <th>CreditScore</th>\n",
       "      <th>Citizen</th>\n",
       "      <th>Income</th>\n",
       "      <th>Approved</th>\n",
       "    </tr>\n",
       "  </thead>\n",
       "  <tbody>\n",
       "    <tr>\n",
       "      <th>0</th>\n",
       "      <td>1</td>\n",
       "      <td>30.83</td>\n",
       "      <td>4.893472</td>\n",
       "      <td>1</td>\n",
       "      <td>0</td>\n",
       "      <td>12</td>\n",
       "      <td>7</td>\n",
       "      <td>1.25</td>\n",
       "      <td>1</td>\n",
       "      <td>1</td>\n",
       "      <td>1.000000</td>\n",
       "      <td>0</td>\n",
       "      <td>1777.205063</td>\n",
       "      <td>1</td>\n",
       "    </tr>\n",
       "    <tr>\n",
       "      <th>1</th>\n",
       "      <td>0</td>\n",
       "      <td>58.67</td>\n",
       "      <td>4.460000</td>\n",
       "      <td>1</td>\n",
       "      <td>0</td>\n",
       "      <td>10</td>\n",
       "      <td>3</td>\n",
       "      <td>3.04</td>\n",
       "      <td>1</td>\n",
       "      <td>1</td>\n",
       "      <td>6.000000</td>\n",
       "      <td>0</td>\n",
       "      <td>560.000000</td>\n",
       "      <td>1</td>\n",
       "    </tr>\n",
       "    <tr>\n",
       "      <th>2</th>\n",
       "      <td>0</td>\n",
       "      <td>24.50</td>\n",
       "      <td>0.500000</td>\n",
       "      <td>1</td>\n",
       "      <td>0</td>\n",
       "      <td>10</td>\n",
       "      <td>3</td>\n",
       "      <td>1.50</td>\n",
       "      <td>1</td>\n",
       "      <td>0</td>\n",
       "      <td>5.613559</td>\n",
       "      <td>0</td>\n",
       "      <td>824.000000</td>\n",
       "      <td>1</td>\n",
       "    </tr>\n",
       "    <tr>\n",
       "      <th>3</th>\n",
       "      <td>1</td>\n",
       "      <td>27.83</td>\n",
       "      <td>1.540000</td>\n",
       "      <td>1</td>\n",
       "      <td>0</td>\n",
       "      <td>12</td>\n",
       "      <td>7</td>\n",
       "      <td>3.75</td>\n",
       "      <td>1</td>\n",
       "      <td>1</td>\n",
       "      <td>5.000000</td>\n",
       "      <td>0</td>\n",
       "      <td>3.000000</td>\n",
       "      <td>1</td>\n",
       "    </tr>\n",
       "    <tr>\n",
       "      <th>4</th>\n",
       "      <td>1</td>\n",
       "      <td>20.17</td>\n",
       "      <td>5.625000</td>\n",
       "      <td>1</td>\n",
       "      <td>0</td>\n",
       "      <td>12</td>\n",
       "      <td>7</td>\n",
       "      <td>1.71</td>\n",
       "      <td>1</td>\n",
       "      <td>0</td>\n",
       "      <td>5.613559</td>\n",
       "      <td>2</td>\n",
       "      <td>1777.205063</td>\n",
       "      <td>1</td>\n",
       "    </tr>\n",
       "    <tr>\n",
       "      <th>...</th>\n",
       "      <td>...</td>\n",
       "      <td>...</td>\n",
       "      <td>...</td>\n",
       "      <td>...</td>\n",
       "      <td>...</td>\n",
       "      <td>...</td>\n",
       "      <td>...</td>\n",
       "      <td>...</td>\n",
       "      <td>...</td>\n",
       "      <td>...</td>\n",
       "      <td>...</td>\n",
       "      <td>...</td>\n",
       "      <td>...</td>\n",
       "      <td>...</td>\n",
       "    </tr>\n",
       "    <tr>\n",
       "      <th>685</th>\n",
       "      <td>1</td>\n",
       "      <td>21.08</td>\n",
       "      <td>10.085000</td>\n",
       "      <td>2</td>\n",
       "      <td>2</td>\n",
       "      <td>4</td>\n",
       "      <td>3</td>\n",
       "      <td>1.25</td>\n",
       "      <td>0</td>\n",
       "      <td>0</td>\n",
       "      <td>5.613559</td>\n",
       "      <td>0</td>\n",
       "      <td>1777.205063</td>\n",
       "      <td>0</td>\n",
       "    </tr>\n",
       "    <tr>\n",
       "      <th>686</th>\n",
       "      <td>0</td>\n",
       "      <td>22.67</td>\n",
       "      <td>0.750000</td>\n",
       "      <td>1</td>\n",
       "      <td>0</td>\n",
       "      <td>1</td>\n",
       "      <td>7</td>\n",
       "      <td>2.00</td>\n",
       "      <td>0</td>\n",
       "      <td>1</td>\n",
       "      <td>2.000000</td>\n",
       "      <td>0</td>\n",
       "      <td>394.000000</td>\n",
       "      <td>0</td>\n",
       "    </tr>\n",
       "    <tr>\n",
       "      <th>687</th>\n",
       "      <td>0</td>\n",
       "      <td>25.25</td>\n",
       "      <td>13.500000</td>\n",
       "      <td>2</td>\n",
       "      <td>2</td>\n",
       "      <td>5</td>\n",
       "      <td>2</td>\n",
       "      <td>2.00</td>\n",
       "      <td>0</td>\n",
       "      <td>1</td>\n",
       "      <td>1.000000</td>\n",
       "      <td>0</td>\n",
       "      <td>1.000000</td>\n",
       "      <td>0</td>\n",
       "    </tr>\n",
       "    <tr>\n",
       "      <th>688</th>\n",
       "      <td>1</td>\n",
       "      <td>17.92</td>\n",
       "      <td>0.205000</td>\n",
       "      <td>1</td>\n",
       "      <td>0</td>\n",
       "      <td>0</td>\n",
       "      <td>7</td>\n",
       "      <td>0.04</td>\n",
       "      <td>0</td>\n",
       "      <td>0</td>\n",
       "      <td>5.613559</td>\n",
       "      <td>0</td>\n",
       "      <td>750.000000</td>\n",
       "      <td>0</td>\n",
       "    </tr>\n",
       "    <tr>\n",
       "      <th>689</th>\n",
       "      <td>1</td>\n",
       "      <td>35.00</td>\n",
       "      <td>3.375000</td>\n",
       "      <td>1</td>\n",
       "      <td>0</td>\n",
       "      <td>1</td>\n",
       "      <td>3</td>\n",
       "      <td>8.29</td>\n",
       "      <td>0</td>\n",
       "      <td>0</td>\n",
       "      <td>5.613559</td>\n",
       "      <td>0</td>\n",
       "      <td>1777.205063</td>\n",
       "      <td>0</td>\n",
       "    </tr>\n",
       "  </tbody>\n",
       "</table>\n",
       "<p>690 rows × 14 columns</p>\n",
       "</div>"
      ],
      "text/plain": [
       "     Gender    Age       Debt  Married  BankCustomer  EducationLevel  \\\n",
       "0         1  30.83   4.893472        1             0              12   \n",
       "1         0  58.67   4.460000        1             0              10   \n",
       "2         0  24.50   0.500000        1             0              10   \n",
       "3         1  27.83   1.540000        1             0              12   \n",
       "4         1  20.17   5.625000        1             0              12   \n",
       "..      ...    ...        ...      ...           ...             ...   \n",
       "685       1  21.08  10.085000        2             2               4   \n",
       "686       0  22.67   0.750000        1             0               1   \n",
       "687       0  25.25  13.500000        2             2               5   \n",
       "688       1  17.92   0.205000        1             0               0   \n",
       "689       1  35.00   3.375000        1             0               1   \n",
       "\n",
       "     Ethnicity  YearsEmployed  PriorDefault  Employed  CreditScore  Citizen  \\\n",
       "0            7           1.25             1         1     1.000000        0   \n",
       "1            3           3.04             1         1     6.000000        0   \n",
       "2            3           1.50             1         0     5.613559        0   \n",
       "3            7           3.75             1         1     5.000000        0   \n",
       "4            7           1.71             1         0     5.613559        2   \n",
       "..         ...            ...           ...       ...          ...      ...   \n",
       "685          3           1.25             0         0     5.613559        0   \n",
       "686          7           2.00             0         1     2.000000        0   \n",
       "687          2           2.00             0         1     1.000000        0   \n",
       "688          7           0.04             0         0     5.613559        0   \n",
       "689          3           8.29             0         0     5.613559        0   \n",
       "\n",
       "          Income  Approved  \n",
       "0    1777.205063         1  \n",
       "1     560.000000         1  \n",
       "2     824.000000         1  \n",
       "3       3.000000         1  \n",
       "4    1777.205063         1  \n",
       "..           ...       ...  \n",
       "685  1777.205063         0  \n",
       "686   394.000000         0  \n",
       "687     1.000000         0  \n",
       "688   750.000000         0  \n",
       "689  1777.205063         0  \n",
       "\n",
       "[690 rows x 14 columns]"
      ]
     },
     "execution_count": 264,
     "metadata": {},
     "output_type": "execute_result"
    }
   ],
   "source": [
    "cc_data"
   ]
  },
  {
   "cell_type": "code",
   "execution_count": 265,
   "id": "bd4573f1",
   "metadata": {},
   "outputs": [
    {
     "data": {
      "text/plain": [
       "Gender               int8\n",
       "Age               float64\n",
       "Debt              float64\n",
       "Married              int8\n",
       "BankCustomer         int8\n",
       "EducationLevel       int8\n",
       "Ethnicity            int8\n",
       "YearsEmployed     float64\n",
       "PriorDefault         int8\n",
       "Employed             int8\n",
       "CreditScore       float64\n",
       "Citizen              int8\n",
       "Income            float64\n",
       "Approved            int64\n",
       "dtype: object"
      ]
     },
     "execution_count": 265,
     "metadata": {},
     "output_type": "execute_result"
    }
   ],
   "source": [
    "cc_data.dtypes"
   ]
  },
  {
   "cell_type": "markdown",
   "id": "13dfddc5",
   "metadata": {},
   "source": [
    "### Task 5"
   ]
  },
  {
   "cell_type": "code",
   "execution_count": 266,
   "id": "75b5dbcf",
   "metadata": {},
   "outputs": [
    {
     "data": {
      "text/plain": [
       "0    383\n",
       "1    307\n",
       "Name: Approved, dtype: int64"
      ]
     },
     "execution_count": 266,
     "metadata": {},
     "output_type": "execute_result"
    }
   ],
   "source": [
    "#Looking at the distribution of the categories in the 'Approved' column\n",
    "cc_data['Approved'].value_counts()"
   ]
  },
  {
   "cell_type": "code",
   "execution_count": 267,
   "id": "db827c38",
   "metadata": {},
   "outputs": [
    {
     "data": {
      "text/plain": [
       "[Text(0.5, 1.0, 'Countplot of Approved')]"
      ]
     },
     "execution_count": 267,
     "metadata": {},
     "output_type": "execute_result"
    },
    {
     "data": {
      "image/png": "[encoded data removed]",
      "text/plain": [
       "<Figure size 432x288 with 1 Axes>"
      ]
     },
     "metadata": {
      "needs_background": "light"
     },
     "output_type": "display_data"
    }
   ],
   "source": [
    "#visualization\n",
    "sns.countplot(x = 'Approved', data = cc_data, palette = 'Set2').set(title = 'Countplot of Approved')"
   ]
  },
  {
   "cell_type": "markdown",
   "id": "f43869a9",
   "metadata": {},
   "source": [
    "The count plot helps us easily identify the distribution of each category in the variable. It also helps us see if a variable is normallyy distributed or not. Here 0 refers to credit card not approved and 1 means credit card approved."
   ]
  },
  {
   "cell_type": "markdown",
   "id": "1a8d5ca9",
   "metadata": {},
   "source": [
    "#### Training and testing the data for regression"
   ]
  },
  {
   "cell_type": "code",
   "execution_count": 335,
   "id": "577b4e8d",
   "metadata": {},
   "outputs": [],
   "source": [
    "X = cc_data.drop(columns = 'Approved')"
   ]
  },
  {
   "cell_type": "code",
   "execution_count": 269,
   "id": "d040cea6",
   "metadata": {},
   "outputs": [],
   "source": [
    "Y = cc_data['Approved']"
   ]
  },
  {
   "cell_type": "code",
   "execution_count": 313,
   "id": "8bd0dcc0",
   "metadata": {},
   "outputs": [],
   "source": [
    "#splitting data for training and testing\n",
    "X_train, X_test, Y_train, Y_test = train_test_split(X, Y, test_size = 0.3, random_state = 0)"
   ]
  },
  {
   "cell_type": "code",
   "execution_count": 314,
   "id": "b466186f",
   "metadata": {},
   "outputs": [
    {
     "name": "stderr",
     "output_type": "stream",
     "text": [
      "C:\\Users\\35383\\anaconda3\\lib\\site-packages\\sklearn\\linear_model\\_logistic.py:814: ConvergenceWarning: lbfgs failed to converge (status=1):\n",
      "STOP: TOTAL NO. of ITERATIONS REACHED LIMIT.\n",
      "\n",
      "Increase the number of iterations (max_iter) or scale the data as shown in:\n",
      "    https://scikit-learn.org/stable/modules/preprocessing.html\n",
      "Please also refer to the documentation for alternative solver options:\n",
      "    https://scikit-learn.org/stable/modules/linear_model.html#logistic-regression\n",
      "  n_iter_i = _check_optimize_result(\n"
     ]
    },
    {
     "data": {
      "text/plain": [
       "LogisticRegression()"
      ]
     },
     "execution_count": 314,
     "metadata": {},
     "output_type": "execute_result"
    }
   ],
   "source": [
    "#fitting logistic regression model\n",
    "regressor = LogisticRegression()\n",
    "regressor.fit(X_train, Y_train)"
   ]
  },
  {
   "cell_type": "code",
   "execution_count": 315,
   "id": "7d2c758f",
   "metadata": {},
   "outputs": [
    {
     "name": "stdout",
     "output_type": "stream",
     "text": [
      "0.8571428571428571\n"
     ]
    }
   ],
   "source": [
    "#Accuracy for training data\n",
    "print (regressor.score(X_train, Y_train))"
   ]
  },
  {
   "cell_type": "markdown",
   "id": "163af645",
   "metadata": {},
   "source": [
    "We get a score value of 0.86 for our regression model, this means that 86% of the variance in the dependent variable can be explained by the independent variable(s) in the case of training data in our regression model. This is a good result, as it indicates that the model is able to capture the relationship between the predictor variables and the response variable."
   ]
  },
  {
   "cell_type": "code",
   "execution_count": 316,
   "id": "3d9a7105",
   "metadata": {},
   "outputs": [
    {
     "name": "stdout",
     "output_type": "stream",
     "text": [
      "0.7971014492753623\n"
     ]
    }
   ],
   "source": [
    "#Accuracy for test data\n",
    "print (regressor.score(X_test, Y_test))"
   ]
  },
  {
   "cell_type": "markdown",
   "id": "92114474",
   "metadata": {},
   "source": [
    "We get a score value of 0.80 for test data in our model, this means 80 % of the variance in the dependent variable can be explained by the independent variable(s) in the test data for our regression model."
   ]
  },
  {
   "cell_type": "code",
   "execution_count": 320,
   "id": "21412667",
   "metadata": {},
   "outputs": [],
   "source": [
    "# predicting credit card approval\n",
    "Y_pred = regressor.predict(X_test)"
   ]
  },
  {
   "cell_type": "code",
   "execution_count": 331,
   "id": "5451e093",
   "metadata": {},
   "outputs": [
    {
     "name": "stdout",
     "output_type": "stream",
     "text": [
      "[1 1 1 1 0 0 1 0 0 0 1 1 0 0 0 0 1 1 1 1 0 0 1 1 0 0 1 0 1 1 0 1 0 0 1 0 0\n",
      " 0 1 1 0 1 0 0 0 0 1 0 0 1 0 0 1 0 0 0 1 0 1 0 1 0 1 0 1 1 0 1 0 0 0 0 0 1\n",
      " 1 0 0 0 0 1 0 0 0 0 1 1 0 1 1 1 0 0 1 1 1 0 0 1 1 0 0 1 0 1 1 1 1 0 0 0 0\n",
      " 0 1 0 0 0 0 0 1 1 0 0 1 1 0 0 0 1 1 0 1 0 0 0 0 0 0 0 1 0 0 1 0 1 0 0 0 0\n",
      " 1 1 0 0 0 0 1 0 0 0 0 0 0 0 1 1 0 0 0 0 1 0 0 0 1 1 1 1 0 0 0 0 0 0 1 0 0\n",
      " 0 0 1 0 1 0 0 1 0 1 1 1 0 0 0 0 0 1 0 0 0 0]\n"
     ]
    }
   ],
   "source": [
    "print(Y_pred)"
   ]
  },
  {
   "cell_type": "code",
   "execution_count": 322,
   "id": "44fb27dd",
   "metadata": {},
   "outputs": [
    {
     "name": "stdout",
     "output_type": "stream",
     "text": [
      "Model Accuracy: 0.7971014492753623\n"
     ]
    }
   ],
   "source": [
    "# finding out the accuracy of the predictions of our model\n",
    "from sklearn import metrics\n",
    "accuracy = metrics.accuracy_score(Y_test, Y_pred)\n",
    "print(\"Model Accuracy:\", accuracy)"
   ]
  },
  {
   "cell_type": "markdown",
   "id": "00960a3b",
   "metadata": {},
   "source": [
    "A score of 0.80 for accuracy indicates that 80% of the predictions made by the model are accurate. This is a good enough accuracy score."
   ]
  },
  {
   "cell_type": "code",
   "execution_count": 274,
   "id": "d02eb5ce",
   "metadata": {},
   "outputs": [],
   "source": [
    "#print confusion matrix \n",
    "from sklearn.metrics import confusion_matrix"
   ]
  },
  {
   "cell_type": "code",
   "execution_count": 297,
   "id": "bc8d9ac2",
   "metadata": {},
   "outputs": [
    {
     "data": {
      "text/html": [
       "<div>\n",
       "<style scoped>\n",
       "    .dataframe tbody tr th:only-of-type {\n",
       "        vertical-align: middle;\n",
       "    }\n",
       "\n",
       "    .dataframe tbody tr th {\n",
       "        vertical-align: top;\n",
       "    }\n",
       "\n",
       "    .dataframe thead th {\n",
       "        text-align: right;\n",
       "    }\n",
       "</style>\n",
       "<table border=\"1\" class=\"dataframe\">\n",
       "  <thead>\n",
       "    <tr style=\"text-align: right;\">\n",
       "      <th></th>\n",
       "      <th>Predicted No</th>\n",
       "      <th>Predicted Yes</th>\n",
       "    </tr>\n",
       "  </thead>\n",
       "  <tbody>\n",
       "    <tr>\n",
       "      <th>Actual No</th>\n",
       "      <td>102</td>\n",
       "      <td>15</td>\n",
       "    </tr>\n",
       "    <tr>\n",
       "      <th>Actual Yes</th>\n",
       "      <td>27</td>\n",
       "      <td>63</td>\n",
       "    </tr>\n",
       "  </tbody>\n",
       "</table>\n",
       "</div>"
      ],
      "text/plain": [
       "            Predicted No  Predicted Yes\n",
       "Actual No            102             15\n",
       "Actual Yes            27             63"
      ]
     },
     "execution_count": 297,
     "metadata": {},
     "output_type": "execute_result"
    }
   ],
   "source": [
    "pd.DataFrame(confusion_matrix(Y_test,Y_pred),columns=['Predicted No','Predicted Yes'],index=['Actual No','Actual Yes'])"
   ]
  },
  {
   "cell_type": "code",
   "execution_count": 323,
   "id": "9c8f8600",
   "metadata": {},
   "outputs": [],
   "source": [
    "#import classification report for better understanding\n",
    "from sklearn.metrics import classification_report"
   ]
  },
  {
   "cell_type": "code",
   "execution_count": 324,
   "id": "a110271c",
   "metadata": {},
   "outputs": [
    {
     "name": "stdout",
     "output_type": "stream",
     "text": [
      "              precision    recall  f1-score   support\n",
      "\n",
      "           0       0.79      0.87      0.83       117\n",
      "           1       0.81      0.70      0.75        90\n",
      "\n",
      "    accuracy                           0.80       207\n",
      "   macro avg       0.80      0.79      0.79       207\n",
      "weighted avg       0.80      0.80      0.79       207\n",
      "\n"
     ]
    }
   ],
   "source": [
    "print(classification_report(Y_test,Y_pred))"
   ]
  },
  {
   "cell_type": "markdown",
   "id": "65c84554",
   "metadata": {},
   "source": [
    "#### Logistic regression model and summary using training data"
   ]
  },
  {
   "cell_type": "code",
   "execution_count": 329,
   "id": "10678f6a",
   "metadata": {},
   "outputs": [
    {
     "name": "stdout",
     "output_type": "stream",
     "text": [
      "Optimization terminated successfully.\n",
      "         Current function value: 0.329406\n",
      "         Iterations 8\n"
     ]
    }
   ],
   "source": [
    "#Running the logistic regression on training data using sm.Logit\n",
    "import statsmodels.api as sm\n",
    "model = sm.Logit(Y_train,X_train)\n",
    "result = model.fit()"
   ]
  },
  {
   "cell_type": "code",
   "execution_count": 334,
   "id": "05a694c8",
   "metadata": {},
   "outputs": [
    {
     "name": "stdout",
     "output_type": "stream",
     "text": [
      "                           Logit Regression Results                           \n",
      "==============================================================================\n",
      "Dep. Variable:               Approved   No. Observations:                  483\n",
      "Model:                          Logit   Df Residuals:                      470\n",
      "Method:                           MLE   Df Model:                           12\n",
      "Date:                Tue, 20 Dec 2022   Pseudo R-squ.:                  0.5212\n",
      "Time:                        02:11:02   Log-Likelihood:                -159.10\n",
      "converged:                       True   LL-Null:                       -332.30\n",
      "Covariance Type:            nonrobust   LLR p-value:                 8.084e-67\n",
      "==================================================================================\n",
      "                     coef    std err          z      P>|z|      [0.025      0.975]\n",
      "----------------------------------------------------------------------------------\n",
      "Gender             0.0005      0.320      0.002      0.999      -0.627       0.628\n",
      "Age               -0.0054      0.014     -0.383      0.702      -0.033       0.022\n",
      "Debt               0.0200      0.030      0.672      0.501      -0.038       0.078\n",
      "Married           -4.3350      0.762     -5.689      0.000      -5.828      -2.842\n",
      "BankCustomer       1.6658      0.441      3.775      0.000       0.801       2.531\n",
      "EducationLevel     0.0356      0.033      1.080      0.280      -0.029       0.100\n",
      "Ethnicity          0.0472      0.060      0.787      0.431      -0.070       0.165\n",
      "YearsEmployed      0.0846      0.058      1.457      0.145      -0.029       0.198\n",
      "PriorDefault       3.1676      0.336      9.419      0.000       2.509       3.827\n",
      "Employed           1.4915      0.333      4.481      0.000       0.839       2.144\n",
      "CreditScore        0.1319      0.068      1.941      0.052      -0.001       0.265\n",
      "Citizen           -0.1900      0.269     -0.706      0.480      -0.718       0.338\n",
      "Income             0.0004      0.000      2.642      0.008    9.52e-05       0.001\n",
      "==================================================================================\n"
     ]
    }
   ],
   "source": [
    "print(result.summary())"
   ]
  },
  {
   "cell_type": "markdown",
   "id": "d906ee59",
   "metadata": {},
   "source": [
    "Looking at the summary of our regression model, first we will look at our Pseudo R-squared value, a value of 0.52 indicates that our model is a good fit (in the case of training data). \n",
    "\n",
    "P-values for some variables are as low as 0, Variables 'Married', 'BankCustomer','Employed','PriorDefault' and 'Income' are statistically significant at 5% as well as 1% significance level, that means these variables are reliable predictors for wether or not a person's credit card will be approved."
   ]
  }
 ],
 "metadata": {
  "kernelspec": {
   "display_name": "Python 3 (ipykernel)",
   "language": "python",
   "name": "python3"
  },
  "language_info": {
   "codemirror_mode": {
    "name": "ipython",
    "version": 3
   },
   "file_extension": ".py",
   "mimetype": "text/x-python",
   "name": "python",
   "nbconvert_exporter": "python",
   "pygments_lexer": "ipython3",
   "version": "3.9.12"
  }
 },
 "nbformat": 4,
 "nbformat_minor": 5
}

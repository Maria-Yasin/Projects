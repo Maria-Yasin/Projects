{
 "cells": [
  {
   "cell_type": "markdown",
   "id": "7fef3978",
   "metadata": {},
   "source": [
    "# Maria Yasin \n",
    "\n",
    "## 18716929"
   ]
  },
  {
   "cell_type": "markdown",
   "id": "e1dabed8",
   "metadata": {},
   "source": [
    "## ML with Python Assignment 1\n",
    "## Encoding Category Features"
   ]
  },
  {
   "cell_type": "code",
   "execution_count": 1,
   "id": "9d18dd3e",
   "metadata": {},
   "outputs": [],
   "source": [
    "# Import essential libraries\n",
    "import pandas as pd\n",
    "import numpy as np \n",
    "from sklearn.metrics import confusion_matrix \n",
    "from sklearn.model_selection import train_test_split\n",
    "from sklearn.naive_bayes import CategoricalNB, GaussianNB, BernoulliNB, MultinomialNB\n",
    "from sklearn.preprocessing import OneHotEncoder, OrdinalEncoder, LabelEncoder\n",
    "import matplotlib.pyplot as plt\n",
    "%matplotlib inline"
   ]
  },
  {
   "cell_type": "code",
   "execution_count": 2,
   "id": "4579699b",
   "metadata": {},
   "outputs": [
    {
     "data": {
      "text/html": [
       "<div>\n",
       "<style scoped>\n",
       "    .dataframe tbody tr th:only-of-type {\n",
       "        vertical-align: middle;\n",
       "    }\n",
       "\n",
       "    .dataframe tbody tr th {\n",
       "        vertical-align: top;\n",
       "    }\n",
       "\n",
       "    .dataframe thead th {\n",
       "        text-align: right;\n",
       "    }\n",
       "</style>\n",
       "<table border=\"1\" class=\"dataframe\">\n",
       "  <thead>\n",
       "    <tr style=\"text-align: right;\">\n",
       "      <th></th>\n",
       "      <th>Class</th>\n",
       "      <th>age</th>\n",
       "      <th>menopause</th>\n",
       "      <th>tumor-size</th>\n",
       "      <th>inv-nodes</th>\n",
       "      <th>node-caps</th>\n",
       "      <th>deg-malig</th>\n",
       "      <th>breast</th>\n",
       "      <th>breast-quad</th>\n",
       "      <th>irradiat</th>\n",
       "    </tr>\n",
       "  </thead>\n",
       "  <tbody>\n",
       "    <tr>\n",
       "      <th>0</th>\n",
       "      <td>no-recurrence-events</td>\n",
       "      <td>30-39</td>\n",
       "      <td>premeno</td>\n",
       "      <td>30-34</td>\n",
       "      <td>0-2</td>\n",
       "      <td>no</td>\n",
       "      <td>3</td>\n",
       "      <td>left</td>\n",
       "      <td>left_low</td>\n",
       "      <td>no</td>\n",
       "    </tr>\n",
       "    <tr>\n",
       "      <th>1</th>\n",
       "      <td>no-recurrence-events</td>\n",
       "      <td>40-49</td>\n",
       "      <td>premeno</td>\n",
       "      <td>20-24</td>\n",
       "      <td>0-2</td>\n",
       "      <td>no</td>\n",
       "      <td>2</td>\n",
       "      <td>right</td>\n",
       "      <td>right_up</td>\n",
       "      <td>no</td>\n",
       "    </tr>\n",
       "    <tr>\n",
       "      <th>2</th>\n",
       "      <td>no-recurrence-events</td>\n",
       "      <td>40-49</td>\n",
       "      <td>premeno</td>\n",
       "      <td>20-24</td>\n",
       "      <td>0-2</td>\n",
       "      <td>no</td>\n",
       "      <td>2</td>\n",
       "      <td>left</td>\n",
       "      <td>left_low</td>\n",
       "      <td>no</td>\n",
       "    </tr>\n",
       "    <tr>\n",
       "      <th>3</th>\n",
       "      <td>no-recurrence-events</td>\n",
       "      <td>60-69</td>\n",
       "      <td>ge40</td>\n",
       "      <td>15-19</td>\n",
       "      <td>0-2</td>\n",
       "      <td>no</td>\n",
       "      <td>2</td>\n",
       "      <td>right</td>\n",
       "      <td>left_up</td>\n",
       "      <td>no</td>\n",
       "    </tr>\n",
       "    <tr>\n",
       "      <th>4</th>\n",
       "      <td>no-recurrence-events</td>\n",
       "      <td>40-49</td>\n",
       "      <td>premeno</td>\n",
       "      <td>0-4</td>\n",
       "      <td>0-2</td>\n",
       "      <td>no</td>\n",
       "      <td>2</td>\n",
       "      <td>right</td>\n",
       "      <td>right_low</td>\n",
       "      <td>no</td>\n",
       "    </tr>\n",
       "  </tbody>\n",
       "</table>\n",
       "</div>"
      ],
      "text/plain": [
       "                  Class    age menopause tumor-size inv-nodes node-caps  \\\n",
       "0  no-recurrence-events  30-39   premeno      30-34       0-2        no   \n",
       "1  no-recurrence-events  40-49   premeno      20-24       0-2        no   \n",
       "2  no-recurrence-events  40-49   premeno      20-24       0-2        no   \n",
       "3  no-recurrence-events  60-69      ge40      15-19       0-2        no   \n",
       "4  no-recurrence-events  40-49   premeno        0-4       0-2        no   \n",
       "\n",
       "   deg-malig breast breast-quad irradiat  \n",
       "0          3   left    left_low       no  \n",
       "1          2  right    right_up       no  \n",
       "2          2   left    left_low       no  \n",
       "3          2  right     left_up       no  \n",
       "4          2  right   right_low       no  "
      ]
     },
     "execution_count": 2,
     "metadata": {},
     "output_type": "execute_result"
    }
   ],
   "source": [
    "# Load the dataset\n",
    "cancer = pd.read_csv('breast-cancer.csv')\n",
    "cancer.head()"
   ]
  },
  {
   "cell_type": "code",
   "execution_count": 3,
   "id": "b1c0bb08",
   "metadata": {},
   "outputs": [
    {
     "data": {
      "text/plain": [
       "Class          object\n",
       "age            object\n",
       "menopause      object\n",
       "tumor-size     object\n",
       "inv-nodes      object\n",
       "node-caps      object\n",
       "deg-malig       int64\n",
       "breast         object\n",
       "breast-quad    object\n",
       "irradiat       object\n",
       "dtype: object"
      ]
     },
     "execution_count": 3,
     "metadata": {},
     "output_type": "execute_result"
    }
   ],
   "source": [
    "# Variable types\n",
    "cancer.dtypes"
   ]
  },
  {
   "cell_type": "markdown",
   "id": "60607dbe",
   "metadata": {},
   "source": [
    "## Task 1 "
   ]
  },
  {
   "cell_type": "markdown",
   "id": "a09c7b4e",
   "metadata": {},
   "source": [
    "### Ordinal Encoder"
   ]
  },
  {
   "cell_type": "code",
   "execution_count": 4,
   "id": "d5901d8e",
   "metadata": {},
   "outputs": [
    {
     "name": "stdout",
     "output_type": "stream",
     "text": [
      "Index(['Class', 'age', 'menopause', 'tumor-size', 'inv-nodes', 'node-caps',\n",
      "       'deg-malig', 'breast', 'breast-quad'],\n",
      "      dtype='object')\n",
      "['no' 'no' 'no' 'no' 'no' 'no' 'no' 'no' 'no' 'no' 'no' 'no' 'no' 'no'\n",
      " 'no' 'no' 'no' 'no' 'no' 'no' 'no' 'no' 'no' 'no' 'no' 'no' 'no' 'no'\n",
      " 'no' 'no' 'no' 'no' 'no' 'no' 'no' 'no' 'no' 'no' 'no' 'no' 'no' 'no'\n",
      " 'no' 'no' 'no' 'no' 'no' 'no' 'no' 'no' 'no' 'no' 'no' 'no' 'no' 'no'\n",
      " 'no' 'no' 'no' 'no' 'no' 'no' 'no' 'no' 'no' 'no' 'no' 'no' 'no' 'no'\n",
      " 'no' 'no' 'no' 'no' 'no' 'no' 'no' 'no' 'no' 'no' 'no' 'no' 'no' 'no'\n",
      " 'no' 'no' 'no' 'no' 'no' 'no' 'no' 'no' 'no' 'no' 'no' 'no' 'no' 'no'\n",
      " 'no' 'no' 'no' 'no' 'no' 'no' 'no' 'no' 'no' 'no' 'no' 'no' 'no' 'no'\n",
      " 'no' 'no' 'no' 'no' 'no' 'no' 'no' 'no' 'no' 'no' 'no' 'no' 'no' 'no'\n",
      " 'no' 'yes' 'no' 'yes' 'yes' 'yes' 'no' 'no' 'yes' 'no' 'yes' 'yes' 'yes'\n",
      " 'no' 'no' 'no' 'no' 'yes' 'no' 'yes' 'yes' 'yes' 'no' 'no' 'no' 'no' 'no'\n",
      " 'yes' 'no' 'yes' 'no' 'no' 'no' 'no' 'yes' 'no' 'yes' 'yes' 'yes' 'no'\n",
      " 'no' 'yes' 'no' 'yes' 'yes' 'no' 'no' 'no' 'yes' 'yes' 'no' 'no' 'yes'\n",
      " 'yes' 'yes' 'yes' 'yes' 'yes' 'yes' 'yes' 'no' 'yes' 'no' 'no' 'yes'\n",
      " 'yes' 'no' 'no' 'yes' 'no' 'no' 'yes' 'yes' 'no' 'no' 'no' 'no' 'no' 'no'\n",
      " 'no' 'no' 'no' 'no' 'no' 'no' 'no' 'no' 'no' 'no' 'no' 'no' 'no' 'no'\n",
      " 'no' 'no' 'no' 'yes' 'no' 'yes' 'yes' 'no' 'yes' 'no' 'yes' 'no' 'no'\n",
      " 'yes' 'yes' 'yes' 'yes' 'no' 'no' 'no' 'yes' 'yes' 'no' 'yes' 'no' 'yes'\n",
      " 'yes' 'yes' 'yes' 'no' 'no' 'no' 'yes' 'no' 'no' 'no' 'no' 'yes' 'yes'\n",
      " 'yes' 'no' 'no' 'yes' 'no' 'no' 'no' 'no' 'no' 'yes' 'no' 'yes' 'no'\n",
      " 'yes' 'no' 'yes' 'yes' 'no' 'yes' 'yes' 'no' 'yes' 'yes' 'no' 'yes' 'no'\n",
      " 'no' 'no']\n"
     ]
    },
    {
     "data": {
      "text/plain": [
       "array([[0., 1., 2., ..., 2., 0., 2.],\n",
       "       [0., 2., 2., ..., 1., 1., 5.],\n",
       "       [0., 2., 2., ..., 1., 0., 2.],\n",
       "       ...,\n",
       "       [1., 4., 0., ..., 0., 1., 3.],\n",
       "       [1., 2., 0., ..., 2., 0., 2.],\n",
       "       [1., 3., 0., ..., 2., 0., 2.]])"
      ]
     },
     "execution_count": 4,
     "metadata": {},
     "output_type": "execute_result"
    }
   ],
   "source": [
    "y = cancer.pop('irradiat').values # Set this as the y (target) \n",
    "print(cancer.columns)\n",
    "print(y)\n",
    "ord_encoder = OrdinalEncoder()\n",
    "cancerOE = ord_encoder.fit_transform(cancer)\n",
    "cancerOE"
   ]
  },
  {
   "cell_type": "code",
   "execution_count": 5,
   "id": "54cfce01",
   "metadata": {},
   "outputs": [
    {
     "data": {
      "text/html": [
       "<div>\n",
       "<style scoped>\n",
       "    .dataframe tbody tr th:only-of-type {\n",
       "        vertical-align: middle;\n",
       "    }\n",
       "\n",
       "    .dataframe tbody tr th {\n",
       "        vertical-align: top;\n",
       "    }\n",
       "\n",
       "    .dataframe thead th {\n",
       "        text-align: right;\n",
       "    }\n",
       "</style>\n",
       "<table border=\"1\" class=\"dataframe\">\n",
       "  <thead>\n",
       "    <tr style=\"text-align: right;\">\n",
       "      <th></th>\n",
       "      <th>Class</th>\n",
       "      <th>age</th>\n",
       "      <th>menopause</th>\n",
       "      <th>tumor-size</th>\n",
       "      <th>inv-nodes</th>\n",
       "      <th>node-caps</th>\n",
       "      <th>deg-malig</th>\n",
       "      <th>breast</th>\n",
       "      <th>breast-quad</th>\n",
       "    </tr>\n",
       "  </thead>\n",
       "  <tbody>\n",
       "    <tr>\n",
       "      <th>0</th>\n",
       "      <td>0.0</td>\n",
       "      <td>1.0</td>\n",
       "      <td>2.0</td>\n",
       "      <td>5.0</td>\n",
       "      <td>0.0</td>\n",
       "      <td>1.0</td>\n",
       "      <td>2.0</td>\n",
       "      <td>0.0</td>\n",
       "      <td>2.0</td>\n",
       "    </tr>\n",
       "    <tr>\n",
       "      <th>1</th>\n",
       "      <td>0.0</td>\n",
       "      <td>2.0</td>\n",
       "      <td>2.0</td>\n",
       "      <td>3.0</td>\n",
       "      <td>0.0</td>\n",
       "      <td>1.0</td>\n",
       "      <td>1.0</td>\n",
       "      <td>1.0</td>\n",
       "      <td>5.0</td>\n",
       "    </tr>\n",
       "    <tr>\n",
       "      <th>2</th>\n",
       "      <td>0.0</td>\n",
       "      <td>2.0</td>\n",
       "      <td>2.0</td>\n",
       "      <td>3.0</td>\n",
       "      <td>0.0</td>\n",
       "      <td>1.0</td>\n",
       "      <td>1.0</td>\n",
       "      <td>0.0</td>\n",
       "      <td>2.0</td>\n",
       "    </tr>\n",
       "    <tr>\n",
       "      <th>3</th>\n",
       "      <td>0.0</td>\n",
       "      <td>4.0</td>\n",
       "      <td>0.0</td>\n",
       "      <td>2.0</td>\n",
       "      <td>0.0</td>\n",
       "      <td>1.0</td>\n",
       "      <td>1.0</td>\n",
       "      <td>1.0</td>\n",
       "      <td>3.0</td>\n",
       "    </tr>\n",
       "    <tr>\n",
       "      <th>4</th>\n",
       "      <td>0.0</td>\n",
       "      <td>2.0</td>\n",
       "      <td>2.0</td>\n",
       "      <td>0.0</td>\n",
       "      <td>0.0</td>\n",
       "      <td>1.0</td>\n",
       "      <td>1.0</td>\n",
       "      <td>1.0</td>\n",
       "      <td>4.0</td>\n",
       "    </tr>\n",
       "  </tbody>\n",
       "</table>\n",
       "</div>"
      ],
      "text/plain": [
       "   Class  age  menopause  tumor-size  inv-nodes  node-caps  deg-malig  breast  \\\n",
       "0    0.0  1.0        2.0         5.0        0.0        1.0        2.0     0.0   \n",
       "1    0.0  2.0        2.0         3.0        0.0        1.0        1.0     1.0   \n",
       "2    0.0  2.0        2.0         3.0        0.0        1.0        1.0     0.0   \n",
       "3    0.0  4.0        0.0         2.0        0.0        1.0        1.0     1.0   \n",
       "4    0.0  2.0        2.0         0.0        0.0        1.0        1.0     1.0   \n",
       "\n",
       "   breast-quad  \n",
       "0          2.0  \n",
       "1          5.0  \n",
       "2          2.0  \n",
       "3          3.0  \n",
       "4          4.0  "
      ]
     },
     "execution_count": 5,
     "metadata": {},
     "output_type": "execute_result"
    }
   ],
   "source": [
    "# Creating a new dataframe to look at our variables after applying the orinal encoder\n",
    "df = pd.DataFrame(cancerOE, columns = cancer.columns)\n",
    "df.head()"
   ]
  },
  {
   "cell_type": "code",
   "execution_count": 6,
   "id": "f776a13a",
   "metadata": {},
   "outputs": [
    {
     "data": {
      "text/plain": [
       "Class          float64\n",
       "age            float64\n",
       "menopause      float64\n",
       "tumor-size     float64\n",
       "inv-nodes      float64\n",
       "node-caps      float64\n",
       "deg-malig      float64\n",
       "breast         float64\n",
       "breast-quad    float64\n",
       "dtype: object"
      ]
     },
     "execution_count": 6,
     "metadata": {},
     "output_type": "execute_result"
    }
   ],
   "source": [
    "df.dtypes"
   ]
  },
  {
   "cell_type": "markdown",
   "id": "dea8743e",
   "metadata": {},
   "source": [
    "We can see in the above df, all our categorical variables have been changed into numerical variables."
   ]
  },
  {
   "cell_type": "code",
   "execution_count": 7,
   "id": "ef0743ab",
   "metadata": {},
   "outputs": [
    {
     "name": "stdout",
     "output_type": "stream",
     "text": [
      "Confusion matrix:\n",
      "[[190  28]\n",
      " [ 33  35]]\n"
     ]
    }
   ],
   "source": [
    "#Categorical Naive Bayes\n",
    "catNB = CategoricalNB(fit_prior=True,alpha = 0.0001)\n",
    "cancer_catNB = catNB.fit(cancerOE,y)\n",
    "y_dash = cancer_catNB.predict(cancerOE) # y_dash is the prediction\n",
    "confusion = confusion_matrix(y, y_dash)\n",
    "print(\"Confusion matrix:\\n{}\".format(confusion)) "
   ]
  },
  {
   "cell_type": "markdown",
   "id": "759e00aa",
   "metadata": {},
   "source": [
    "The above code implements the Categorical Naive Bayes algorithm on our array 'cancerOE'. The code trains the classifier using the fit method, makes predictions on the data using the predict method, it computes the confusion matrix to evaluate the performance of the classifier. Finally, we get the confusion matrix as seen above. \n",
    "\n",
    "The confusion matrix above has 190 true negatives (TN), 33 false negatives (FN), 28 false positives (FP), and 35 true positives (TP)."
   ]
  },
  {
   "cell_type": "code",
   "execution_count": 8,
   "id": "2cc0e2b4",
   "metadata": {},
   "outputs": [
    {
     "name": "stdout",
     "output_type": "stream",
     "text": [
      "Accuracy: 0.7867132867132867\n"
     ]
    }
   ],
   "source": [
    "#accuracy\n",
    "from sklearn.metrics import accuracy_score\n",
    "OEaccuracy_beforesplit = accuracy_score(y,y_dash)\n",
    "# Print the accuracy\n",
    "print(f\"Accuracy: {OEaccuracy_beforesplit}\")"
   ]
  },
  {
   "cell_type": "markdown",
   "id": "9fe64194",
   "metadata": {},
   "source": [
    "The classifier correctly classified 225 samples (190 TNs and 35 TPs) out of a total of 286 samples, i.e., it has an accuracy of approximately 78.7%."
   ]
  },
  {
   "cell_type": "markdown",
   "id": "d25bb675",
   "metadata": {},
   "source": [
    "### OneHot Encoder"
   ]
  },
  {
   "cell_type": "code",
   "execution_count": 9,
   "id": "cc5ffcb9",
   "metadata": {},
   "outputs": [
    {
     "data": {
      "text/plain": [
       "array([[1., 0., 0., ..., 0., 0., 0.],\n",
       "       [1., 0., 0., ..., 0., 0., 1.],\n",
       "       [1., 0., 0., ..., 0., 0., 0.],\n",
       "       ...,\n",
       "       [0., 1., 0., ..., 1., 0., 0.],\n",
       "       [0., 1., 0., ..., 0., 0., 0.],\n",
       "       [0., 1., 0., ..., 0., 0., 0.]])"
      ]
     },
     "execution_count": 9,
     "metadata": {},
     "output_type": "execute_result"
    }
   ],
   "source": [
    "#Load the dataset again\n",
    "cancer = pd.read_csv('breast-cancer.csv')\n",
    "cancer\n",
    "## OneHot Encoder\n",
    "y = cancer.pop('irradiat').values # Set this as the y (target)\n",
    "onehot_encoder = OneHotEncoder(sparse=False)\n",
    "cancerOH = onehot_encoder.fit_transform(cancer)\n",
    "cancerOH"
   ]
  },
  {
   "cell_type": "code",
   "execution_count": 10,
   "id": "51a2ea41",
   "metadata": {},
   "outputs": [
    {
     "data": {
      "text/plain": [
       "array(['Class_no-recurrence-events', 'Class_recurrence-events',\n",
       "       'age_20-29', 'age_30-39', 'age_40-49', 'age_50-59', 'age_60-69',\n",
       "       'age_70-79', 'menopause_ge40', 'menopause_lt40',\n",
       "       'menopause_premeno', 'tumor-size_0-4', 'tumor-size_10-14',\n",
       "       'tumor-size_15-19', 'tumor-size_20-24', 'tumor-size_25-29',\n",
       "       'tumor-size_30-34', 'tumor-size_35-39', 'tumor-size_40-44',\n",
       "       'tumor-size_45-49', 'tumor-size_5-9', 'tumor-size_50-54',\n",
       "       'inv-nodes_0-2', 'inv-nodes_12-14', 'inv-nodes_15-17',\n",
       "       'inv-nodes_24-26', 'inv-nodes_3-5', 'inv-nodes_6-8',\n",
       "       'inv-nodes_9-11', 'node-caps_?', 'node-caps_no', 'node-caps_yes',\n",
       "       'deg-malig_1', 'deg-malig_2', 'deg-malig_3', 'breast_left',\n",
       "       'breast_right', 'breast-quad_?', 'breast-quad_central',\n",
       "       'breast-quad_left_low', 'breast-quad_left_up',\n",
       "       'breast-quad_right_low', 'breast-quad_right_up'], dtype=object)"
      ]
     },
     "execution_count": 10,
     "metadata": {},
     "output_type": "execute_result"
    }
   ],
   "source": [
    "#Features \n",
    "onehot_encoder.get_feature_names_out(cancer.columns)"
   ]
  },
  {
   "cell_type": "code",
   "execution_count": 11,
   "id": "7fd79e63",
   "metadata": {},
   "outputs": [],
   "source": [
    "bnb = BernoulliNB()\n",
    "cancer_numNB = bnb.fit(cancerOH,y)\n",
    "y_dash = cancer_numNB.predict(cancerOH) # y_dash is the prediction"
   ]
  },
  {
   "cell_type": "markdown",
   "id": "17e272af",
   "metadata": {},
   "source": [
    "Here we are performing classification on the cancerOH array using the Bernoulli Naive Bayes algorithm. The fit method is used to train the classifier on the data, and the predict method is used to generate predictions based on the trained classifier."
   ]
  },
  {
   "cell_type": "code",
   "execution_count": 12,
   "id": "1d1f0d41",
   "metadata": {},
   "outputs": [
    {
     "name": "stdout",
     "output_type": "stream",
     "text": [
      "Confusion matrix:\n",
      "[[187  31]\n",
      " [ 29  39]]\n"
     ]
    }
   ],
   "source": [
    "#Confusion matrix\n",
    "confusion = confusion_matrix(y, y_dash)\n",
    "print(\"Confusion matrix:\\n{}\".format(confusion)) "
   ]
  },
  {
   "cell_type": "markdown",
   "id": "fc09c159",
   "metadata": {},
   "source": [
    "The confusion matrix in the code has 187 true negatives (TN), 39 true positives (TP), 31 false positives (FP), and 29 false negatives (FN). "
   ]
  },
  {
   "cell_type": "code",
   "execution_count": 13,
   "id": "cb8206bd",
   "metadata": {},
   "outputs": [
    {
     "name": "stdout",
     "output_type": "stream",
     "text": [
      "Accuracy: 0.7902097902097902\n"
     ]
    }
   ],
   "source": [
    "#accuracy\n",
    "OHEaccuracy_beforesplit = accuracy_score(y,y_dash)\n",
    "# Print the accuracy\n",
    "print(f\"Accuracy: {OHEaccuracy_beforesplit}\")"
   ]
  },
  {
   "cell_type": "markdown",
   "id": "ef470deb",
   "metadata": {},
   "source": [
    "The classifier correctly classified 226 samples out of a total of 286 samples, resulting in an accuracy of approximately 79%."
   ]
  },
  {
   "cell_type": "markdown",
   "id": "9d00162a",
   "metadata": {},
   "source": [
    "## Task 2"
   ]
  },
  {
   "cell_type": "markdown",
   "id": "d6086cdb",
   "metadata": {},
   "source": [
    "### CatBoost Encoder"
   ]
  },
  {
   "cell_type": "code",
   "execution_count": 14,
   "id": "6104ae67",
   "metadata": {},
   "outputs": [],
   "source": [
    "import category_encoders as ce"
   ]
  },
  {
   "cell_type": "code",
   "execution_count": 15,
   "id": "23824153",
   "metadata": {},
   "outputs": [],
   "source": [
    "#Load the dataset again\n",
    "cancer = pd.read_csv('breast-cancer.csv')\n",
    "cancer\n",
    "# Define train and target\n",
    "y = cancer['irradiat'] #target\n",
    "x = cancer.drop('irradiat', axis = 1) #train\n",
    "\n",
    "y = LabelEncoder().fit_transform(y) # convert y to numeric\n",
    "# Define catboost encoder\n",
    "cbe_encoder = ce.cat_boost.CatBoostEncoder()"
   ]
  },
  {
   "cell_type": "markdown",
   "id": "7d28789b",
   "metadata": {},
   "source": [
    "Here we are setting the target variable y as the 'irradiat' column of the cancer dataframe, while the input features x are defined as all other columns except the 'irradiat' column in the breast cancer dataset.\n",
    "\n",
    "We than apply the LabelEncoder() from the sklearn library to encode the target variable y as numeric values.\n",
    "\n",
    "Finally, we define the CatBoostEncoder() encoder from the category_encoders library, which can be used later to encode categorical variables."
   ]
  },
  {
   "cell_type": "code",
   "execution_count": 16,
   "id": "868eca61",
   "metadata": {},
   "outputs": [],
   "source": [
    "# Fit encoder and transform the features\n",
    "cbe_encoder.fit(x,y)\n",
    "train_cbe = cbe_encoder.transform(x)"
   ]
  },
  {
   "cell_type": "markdown",
   "id": "702f0343",
   "metadata": {},
   "source": [
    "This code fits the CatBoostEncoder() encoder to the input features x and target variable y using the fit() function.\n",
    "\n",
    "Then, it uses the learned encoding mappings to transform the categorical variables in x using the target variable y. The encoded dataset is stored in a variable called train_cbe."
   ]
  },
  {
   "cell_type": "code",
   "execution_count": 17,
   "id": "e3e059a1",
   "metadata": {},
   "outputs": [
    {
     "name": "stdout",
     "output_type": "stream",
     "text": [
      "Confusion matrix:\n",
      "[[181  37]\n",
      " [ 26  42]]\n"
     ]
    }
   ],
   "source": [
    "#Confusion Matrix\n",
    "cancer_numGNB = GaussianNB().fit(train_cbe,y)\n",
    "y_dash = cancer_numGNB.predict(train_cbe) # y_dash is the prediction\n",
    "confusion = confusion_matrix(y, y_dash)\n",
    "print(\"Confusion matrix:\\n{}\".format(confusion)) "
   ]
  },
  {
   "cell_type": "markdown",
   "id": "b3317d4d",
   "metadata": {},
   "source": [
    "Here we are using the GaussianNB() function from sklearn library to train a Naive Bayes model on the encoded dataset train_cbe and the target variable y.\n",
    "\n",
    "We then make predictions on the same dataset using the predict() function and stores the results in a variable y_dash.\n",
    "\n",
    "Finally, we compute the confusion matrix using the confusion_matrix() function from sklearn.metrics library, comparing the true target variable y with the predicted values y_dash. \n",
    "\n",
    "\n",
    "The model correctly predicted 223 samples (181 TN and 42 TP) out of 286, and misclassified 63 samples (37 FP and 26 FN)."
   ]
  },
  {
   "cell_type": "code",
   "execution_count": 18,
   "id": "7d6eab81",
   "metadata": {},
   "outputs": [
    {
     "name": "stdout",
     "output_type": "stream",
     "text": [
      "Accuracy: 0.7797202797202797\n"
     ]
    }
   ],
   "source": [
    "#accuracy\n",
    "CBEaccuracy_beforesplit = accuracy_score(y,y_dash)\n",
    "# Print the accuracy\n",
    "print(f\"Accuracy: {CBEaccuracy_beforesplit}\")"
   ]
  },
  {
   "cell_type": "markdown",
   "id": "50319840",
   "metadata": {},
   "source": [
    "the accuracy of the model is 77.97%."
   ]
  },
  {
   "cell_type": "markdown",
   "id": "8650f9fa",
   "metadata": {},
   "source": [
    "## Task 3"
   ]
  },
  {
   "cell_type": "markdown",
   "id": "5af4996a",
   "metadata": {},
   "source": [
    "### Train-Test Split"
   ]
  },
  {
   "cell_type": "code",
   "execution_count": 19,
   "id": "cb9db44d",
   "metadata": {},
   "outputs": [
    {
     "data": {
      "text/plain": [
       "(143, 9)"
      ]
     },
     "execution_count": 19,
     "metadata": {},
     "output_type": "execute_result"
    }
   ],
   "source": [
    "#Splitting the data as 50:50 (i.e. use 50% of the data for testing)\n",
    "X_train, X_test, y_train, y_test = train_test_split(x, y, test_size=0.5, random_state=0)\n",
    "\n",
    "X_train.shape\n",
    "X_test.shape  "
   ]
  },
  {
   "cell_type": "code",
   "execution_count": 20,
   "id": "1803a516",
   "metadata": {},
   "outputs": [
    {
     "data": {
      "text/plain": [
       "array([[1., 0., 2., ..., 2., 0., 2.],\n",
       "       [1., 1., 2., ..., 1., 0., 3.],\n",
       "       [1., 1., 2., ..., 2., 1., 5.],\n",
       "       ...,\n",
       "       [0., 1., 0., ..., 2., 0., 3.],\n",
       "       [0., 2., 2., ..., 0., 1., 3.],\n",
       "       [0., 3., 0., ..., 1., 1., 5.]])"
      ]
     },
     "execution_count": 20,
     "metadata": {},
     "output_type": "execute_result"
    }
   ],
   "source": [
    "#Ordinal encoder after the train-test split\n",
    "ord_encoder = OrdinalEncoder()\n",
    "cancerOE2 = ord_encoder.fit_transform(X_train)\n",
    "cancerOE2"
   ]
  },
  {
   "cell_type": "code",
   "execution_count": 21,
   "id": "c4e8a396",
   "metadata": {},
   "outputs": [
    {
     "name": "stdout",
     "output_type": "stream",
     "text": [
      "Confusion matrix:\n",
      "[[98 11]\n",
      " [16 18]]\n"
     ]
    }
   ],
   "source": [
    "#Categorical Naive Bayes\n",
    "catNB = CategoricalNB(fit_prior=True,alpha = 0.0001)\n",
    "cancer_catNB = catNB.fit(cancerOE2,y_train)\n",
    "y_dash2 = cancer_catNB.predict(cancerOE2) #prediction after the train-test split\n",
    "confusion = confusion_matrix(y_train, y_dash2)\n",
    "print(\"Confusion matrix:\\n{}\".format(confusion)) "
   ]
  },
  {
   "cell_type": "markdown",
   "id": "7eb101d0",
   "metadata": {},
   "source": [
    "We repeat the same steps from the previous tasks, fit and transform the data after train-test split. We train the classifier using the fit method, make predictions on the data using the predict method and generate a confusion matrix."
   ]
  },
  {
   "cell_type": "code",
   "execution_count": 22,
   "id": "31fb3a98",
   "metadata": {},
   "outputs": [
    {
     "name": "stdout",
     "output_type": "stream",
     "text": [
      "Accuracy: 0.8111888111888111\n"
     ]
    }
   ],
   "source": [
    "#accuracy\n",
    "OEaccuracy_aftersplit = accuracy_score(y_train,y_dash2)\n",
    "# Print the accuracy\n",
    "print(f\"Accuracy: {OEaccuracy_aftersplit}\")"
   ]
  },
  {
   "cell_type": "markdown",
   "id": "8af164a3",
   "metadata": {},
   "source": [
    "Our Ordinal encoder classifier has an accuracy of 81.1% after the train-test split. This means that our classifierl has improved after the split."
   ]
  },
  {
   "cell_type": "code",
   "execution_count": 23,
   "id": "fa274e87",
   "metadata": {},
   "outputs": [
    {
     "data": {
      "text/plain": [
       "array([[0., 1., 1., ..., 0., 0., 0.],\n",
       "       [0., 1., 0., ..., 1., 0., 0.],\n",
       "       [0., 1., 0., ..., 0., 0., 1.],\n",
       "       ...,\n",
       "       [1., 0., 0., ..., 1., 0., 0.],\n",
       "       [1., 0., 0., ..., 1., 0., 0.],\n",
       "       [1., 0., 0., ..., 0., 0., 1.]])"
      ]
     },
     "execution_count": 23,
     "metadata": {},
     "output_type": "execute_result"
    }
   ],
   "source": [
    "#### OneHot after train-test split\n",
    "onehot_encoder = OneHotEncoder(sparse=False)\n",
    "cancerOH2 = onehot_encoder.fit_transform(X_train)\n",
    "cancerOH2"
   ]
  },
  {
   "cell_type": "code",
   "execution_count": 24,
   "id": "ab95df71",
   "metadata": {},
   "outputs": [],
   "source": [
    "bnb = BernoulliNB()\n",
    "cancer_numNB = bnb.fit(cancerOH2,y_train)\n",
    "y_dash3 = cancer_numNB.predict(cancerOH2)  #prediction after the train-test split"
   ]
  },
  {
   "cell_type": "code",
   "execution_count": 25,
   "id": "61bb8519",
   "metadata": {},
   "outputs": [
    {
     "name": "stdout",
     "output_type": "stream",
     "text": [
      "Confusion matrix:\n",
      "[[92 17]\n",
      " [16 18]]\n"
     ]
    }
   ],
   "source": [
    "confusion = confusion_matrix(y_train, y_dash3)\n",
    "print(\"Confusion matrix:\\n{}\".format(confusion)) "
   ]
  },
  {
   "cell_type": "code",
   "execution_count": 26,
   "id": "5c8ef2a3",
   "metadata": {},
   "outputs": [
    {
     "name": "stdout",
     "output_type": "stream",
     "text": [
      "Accuracy: 0.7692307692307693\n"
     ]
    }
   ],
   "source": [
    "OHEaccuracy_aftersplit = accuracy_score(y_train,y_dash3)\n",
    "# Print the accuracy\n",
    "print(f\"Accuracy: {OHEaccuracy_aftersplit}\")"
   ]
  },
  {
   "cell_type": "markdown",
   "id": "62e79f2a",
   "metadata": {},
   "source": [
    "Once again, we repeat the same steps for OneHot Encoder after the train-test split. The new classifier has an accuracy of 76.92%. We can see that the accuracy of OneHot Encoder has slightly decreased after the train-test split."
   ]
  },
  {
   "cell_type": "code",
   "execution_count": 27,
   "id": "10159303",
   "metadata": {},
   "outputs": [],
   "source": [
    "###CatBoost after train-test split\n",
    "# Fit encoder and transform the features\n",
    "cbe_encoder.fit(x,y)\n",
    "train_cbe2 = cbe_encoder.transform(X_train)"
   ]
  },
  {
   "cell_type": "code",
   "execution_count": 28,
   "id": "6054b882",
   "metadata": {},
   "outputs": [
    {
     "name": "stdout",
     "output_type": "stream",
     "text": [
      "Confusion matrix:\n",
      "[[89 20]\n",
      " [10 24]]\n"
     ]
    }
   ],
   "source": [
    "cancer_numGNB = GaussianNB().fit(train_cbe2,y_train)\n",
    "y_dash4 = cancer_numGNB.predict(train_cbe2)  #prediction after the train-test split\n",
    "confusion = confusion_matrix(y_train, y_dash4)\n",
    "print(\"Confusion matrix:\\n{}\".format(confusion)) "
   ]
  },
  {
   "cell_type": "code",
   "execution_count": 29,
   "id": "f2dd4417",
   "metadata": {},
   "outputs": [
    {
     "name": "stdout",
     "output_type": "stream",
     "text": [
      "Accuracy: 0.7902097902097902\n"
     ]
    }
   ],
   "source": [
    "#accuracy\n",
    "CBEaccuracy_aftersplit = accuracy_score(y_train,y_dash4)\n",
    "# Print the accuracy\n",
    "print(f\"Accuracy: {CBEaccuracy_aftersplit}\")"
   ]
  },
  {
   "cell_type": "markdown",
   "id": "c89fdc6b",
   "metadata": {},
   "source": [
    "Lastly, we fit and tranform the data using CatBoost Encoder after the train-test split and calculate the accuracy of our predictions after the split using the confusion matrix. We get an accuracy of 79.02%. Our accuracy for the CatBoost encoder classifier has increased slightly after the train-test split."
   ]
  },
  {
   "cell_type": "markdown",
   "id": "4cec385f",
   "metadata": {},
   "source": [
    "## Task 4"
   ]
  },
  {
   "cell_type": "markdown",
   "id": "adc71831",
   "metadata": {},
   "source": [
    "## Plot"
   ]
  },
  {
   "cell_type": "code",
   "execution_count": 30,
   "id": "3aceb7b3",
   "metadata": {},
   "outputs": [
    {
     "data": {
      "image/png": "[encoded data removed]",
      "text/plain": [
       "<Figure size 864x432 with 1 Axes>"
      ]
     },
     "metadata": {
      "needs_background": "light"
     },
     "output_type": "display_data"
    }
   ],
   "source": [
    "# data\n",
    "before_split = [OEaccuracy_beforesplit, OHEaccuracy_beforesplit, CBEaccuracy_beforesplit]\n",
    "after_split = [OEaccuracy_aftersplit, OHEaccuracy_aftersplit, CBEaccuracy_aftersplit]\n",
    "\n",
    "# set the width of the bars\n",
    "bar_width = 0.25\n",
    "\n",
    "# create an array of indices for the bars\n",
    "indices = np.arange(len(before_split))\n",
    "\n",
    "# create a new figure object with a larger size\n",
    "fig, ax = plt.subplots(figsize=(12, 6))\n",
    "\n",
    "# plot the bar chart\n",
    "ax.bar(indices, before_split, width=bar_width, label='Before Split')\n",
    "ax.bar(indices + bar_width, after_split, width=bar_width, label='After Split')\n",
    "\n",
    "# label the x-axis\n",
    "ax.set_xticks(indices + bar_width / 2)\n",
    "ax.set_xticklabels(['OneHot','Ordinal','CatBoost'])\n",
    "\n",
    "# add labels and title\n",
    "ax.set_xlabel('Encoding Models')\n",
    "ax.set_ylabel('Accuracy')\n",
    "ax.set_title('Accuracy Before and After Train-Test Split')\n",
    "\n",
    "# adjust the position and size of the legend\n",
    "ax.legend(bbox_to_anchor=(1.05, 1), loc='upper left')\n",
    "\n",
    "# adjust the plot layout to accommodate the legend\n",
    "plt.subplots_adjust(right=0.8)\n",
    "\n",
    "# show the plot\n",
    "plt.show()"
   ]
  },
  {
   "cell_type": "markdown",
   "id": "2e532231",
   "metadata": {},
   "source": [
    "The above plot clearly shows us the accuracy of our 3 classifiers before and after the Train-Test Split. We can conclude that the accuracy for our OneHot encoder classifier and CatBoost encoder classifier has increased after the train-test split, whereas, the accuracy of our Ordinal encoder classifier has decreased after the split."
   ]
  }
 ],
 "metadata": {
  "kernelspec": {
   "display_name": "Python 3 (ipykernel)",
   "language": "python",
   "name": "python3"
  },
  "language_info": {
   "codemirror_mode": {
    "name": "ipython",
    "version": 3
   },
   "file_extension": ".py",
   "mimetype": "text/x-python",
   "name": "python",
   "nbconvert_exporter": "python",
   "pygments_lexer": "ipython3",
   "version": "3.9.12"
  }
 },
 "nbformat": 4,
 "nbformat_minor": 5
}

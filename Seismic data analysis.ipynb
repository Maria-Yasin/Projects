{
 "cells": [
  {
   "cell_type": "markdown",
   "id": "8f2ad3fe",
   "metadata": {},
   "source": [
    "# MARIA YASIN \n",
    "## 18716929"
   ]
  },
  {
   "cell_type": "markdown",
   "id": "c917fbc7",
   "metadata": {},
   "source": [
    "## Task 2"
   ]
  },
  {
   "cell_type": "markdown",
   "id": "4da5433c",
   "metadata": {},
   "source": [
    "### Data Cleaning"
   ]
  },
  {
   "cell_type": "code",
   "execution_count": 1,
   "id": "5a439b47",
   "metadata": {},
   "outputs": [],
   "source": [
    "#Importing essential libraries\n",
    "import pandas as pd\n",
    "import numpy as np\n",
    "import matplotlib\n",
    "import matplotlib.pyplot as plt\n",
    "%matplotlib inline\n",
    "import statsmodels.formula.api as sm"
   ]
  },
  {
   "cell_type": "code",
   "execution_count": 2,
   "id": "32ed1c62",
   "metadata": {},
   "outputs": [],
   "source": [
    "#Load the dataset\n",
    "earthquake_df = pd.read_csv('earthquake_data.csv')"
   ]
  },
  {
   "cell_type": "code",
   "execution_count": 3,
   "id": "2d63c901",
   "metadata": {},
   "outputs": [
    {
     "data": {
      "text/html": [
       "<div>\n",
       "<style scoped>\n",
       "    .dataframe tbody tr th:only-of-type {\n",
       "        vertical-align: middle;\n",
       "    }\n",
       "\n",
       "    .dataframe tbody tr th {\n",
       "        vertical-align: top;\n",
       "    }\n",
       "\n",
       "    .dataframe thead th {\n",
       "        text-align: right;\n",
       "    }\n",
       "</style>\n",
       "<table border=\"1\" class=\"dataframe\">\n",
       "  <thead>\n",
       "    <tr style=\"text-align: right;\">\n",
       "      <th></th>\n",
       "      <th>time</th>\n",
       "      <th>latitude</th>\n",
       "      <th>longitude</th>\n",
       "      <th>depth</th>\n",
       "      <th>mag</th>\n",
       "      <th>magType</th>\n",
       "      <th>nst</th>\n",
       "      <th>gap</th>\n",
       "      <th>dmin</th>\n",
       "      <th>rms</th>\n",
       "      <th>...</th>\n",
       "      <th>updated</th>\n",
       "      <th>place</th>\n",
       "      <th>type</th>\n",
       "      <th>horizontalError</th>\n",
       "      <th>depthError</th>\n",
       "      <th>magError</th>\n",
       "      <th>magNst</th>\n",
       "      <th>status</th>\n",
       "      <th>locationSource</th>\n",
       "      <th>magSource</th>\n",
       "    </tr>\n",
       "  </thead>\n",
       "  <tbody>\n",
       "    <tr>\n",
       "      <th>0</th>\n",
       "      <td>2022-11-04T00:37:58.751Z</td>\n",
       "      <td>-21.7794</td>\n",
       "      <td>-68.5191</td>\n",
       "      <td>113.214</td>\n",
       "      <td>4.8</td>\n",
       "      <td>mb</td>\n",
       "      <td>94.0</td>\n",
       "      <td>49.0</td>\n",
       "      <td>0.672</td>\n",
       "      <td>0.89</td>\n",
       "      <td>...</td>\n",
       "      <td>2022-11-04T01:04:45.040Z</td>\n",
       "      <td>85 km NNE of Calama, Chile</td>\n",
       "      <td>earthquake</td>\n",
       "      <td>4.67</td>\n",
       "      <td>5.292</td>\n",
       "      <td>0.035</td>\n",
       "      <td>258.0</td>\n",
       "      <td>reviewed</td>\n",
       "      <td>us</td>\n",
       "      <td>us</td>\n",
       "    </tr>\n",
       "    <tr>\n",
       "      <th>1</th>\n",
       "      <td>2022-11-04T00:29:21.863Z</td>\n",
       "      <td>38.3572</td>\n",
       "      <td>27.2181</td>\n",
       "      <td>10.000</td>\n",
       "      <td>4.8</td>\n",
       "      <td>mwr</td>\n",
       "      <td>90.0</td>\n",
       "      <td>50.0</td>\n",
       "      <td>1.061</td>\n",
       "      <td>0.76</td>\n",
       "      <td>...</td>\n",
       "      <td>2022-11-04T01:12:06.147Z</td>\n",
       "      <td>7 km ESE of Karabağlar, Turkey</td>\n",
       "      <td>earthquake</td>\n",
       "      <td>3.10</td>\n",
       "      <td>1.899</td>\n",
       "      <td>0.059</td>\n",
       "      <td>28.0</td>\n",
       "      <td>reviewed</td>\n",
       "      <td>us</td>\n",
       "      <td>us</td>\n",
       "    </tr>\n",
       "    <tr>\n",
       "      <th>2</th>\n",
       "      <td>2022-11-03T23:58:04.886Z</td>\n",
       "      <td>-15.1216</td>\n",
       "      <td>167.4579</td>\n",
       "      <td>220.081</td>\n",
       "      <td>4.7</td>\n",
       "      <td>mb</td>\n",
       "      <td>63.0</td>\n",
       "      <td>44.0</td>\n",
       "      <td>7.452</td>\n",
       "      <td>0.50</td>\n",
       "      <td>...</td>\n",
       "      <td>2022-11-04T00:33:08.040Z</td>\n",
       "      <td>42 km ESE of Port-Olry, Vanuatu</td>\n",
       "      <td>earthquake</td>\n",
       "      <td>8.69</td>\n",
       "      <td>4.028</td>\n",
       "      <td>0.076</td>\n",
       "      <td>53.0</td>\n",
       "      <td>reviewed</td>\n",
       "      <td>us</td>\n",
       "      <td>us</td>\n",
       "    </tr>\n",
       "    <tr>\n",
       "      <th>3</th>\n",
       "      <td>2022-11-03T21:29:48.996Z</td>\n",
       "      <td>0.5353</td>\n",
       "      <td>126.7061</td>\n",
       "      <td>66.373</td>\n",
       "      <td>4.9</td>\n",
       "      <td>mb</td>\n",
       "      <td>64.0</td>\n",
       "      <td>54.0</td>\n",
       "      <td>0.701</td>\n",
       "      <td>0.99</td>\n",
       "      <td>...</td>\n",
       "      <td>2022-11-03T21:41:31.040Z</td>\n",
       "      <td>80 km WSW of Ternate, Indonesia</td>\n",
       "      <td>earthquake</td>\n",
       "      <td>6.93</td>\n",
       "      <td>7.100</td>\n",
       "      <td>0.069</td>\n",
       "      <td>65.0</td>\n",
       "      <td>reviewed</td>\n",
       "      <td>us</td>\n",
       "      <td>us</td>\n",
       "    </tr>\n",
       "    <tr>\n",
       "      <th>4</th>\n",
       "      <td>2022-11-03T21:08:47.143Z</td>\n",
       "      <td>-41.1095</td>\n",
       "      <td>-16.5639</td>\n",
       "      <td>10.000</td>\n",
       "      <td>4.7</td>\n",
       "      <td>mb</td>\n",
       "      <td>50.0</td>\n",
       "      <td>64.0</td>\n",
       "      <td>18.714</td>\n",
       "      <td>0.63</td>\n",
       "      <td>...</td>\n",
       "      <td>2022-11-03T22:28:05.040Z</td>\n",
       "      <td>southern Mid-Atlantic Ridge</td>\n",
       "      <td>earthquake</td>\n",
       "      <td>11.84</td>\n",
       "      <td>1.897</td>\n",
       "      <td>0.080</td>\n",
       "      <td>48.0</td>\n",
       "      <td>reviewed</td>\n",
       "      <td>us</td>\n",
       "      <td>us</td>\n",
       "    </tr>\n",
       "  </tbody>\n",
       "</table>\n",
       "<p>5 rows × 22 columns</p>\n",
       "</div>"
      ],
      "text/plain": [
       "                       time  latitude  longitude    depth  mag magType   nst  \\\n",
       "0  2022-11-04T00:37:58.751Z  -21.7794   -68.5191  113.214  4.8      mb  94.0   \n",
       "1  2022-11-04T00:29:21.863Z   38.3572    27.2181   10.000  4.8     mwr  90.0   \n",
       "2  2022-11-03T23:58:04.886Z  -15.1216   167.4579  220.081  4.7      mb  63.0   \n",
       "3  2022-11-03T21:29:48.996Z    0.5353   126.7061   66.373  4.9      mb  64.0   \n",
       "4  2022-11-03T21:08:47.143Z  -41.1095   -16.5639   10.000  4.7      mb  50.0   \n",
       "\n",
       "    gap    dmin   rms  ...                   updated  \\\n",
       "0  49.0   0.672  0.89  ...  2022-11-04T01:04:45.040Z   \n",
       "1  50.0   1.061  0.76  ...  2022-11-04T01:12:06.147Z   \n",
       "2  44.0   7.452  0.50  ...  2022-11-04T00:33:08.040Z   \n",
       "3  54.0   0.701  0.99  ...  2022-11-03T21:41:31.040Z   \n",
       "4  64.0  18.714  0.63  ...  2022-11-03T22:28:05.040Z   \n",
       "\n",
       "                             place        type horizontalError depthError  \\\n",
       "0       85 km NNE of Calama, Chile  earthquake            4.67      5.292   \n",
       "1   7 km ESE of Karabağlar, Turkey  earthquake            3.10      1.899   \n",
       "2  42 km ESE of Port-Olry, Vanuatu  earthquake            8.69      4.028   \n",
       "3  80 km WSW of Ternate, Indonesia  earthquake            6.93      7.100   \n",
       "4      southern Mid-Atlantic Ridge  earthquake           11.84      1.897   \n",
       "\n",
       "   magError  magNst    status  locationSource magSource  \n",
       "0     0.035   258.0  reviewed              us        us  \n",
       "1     0.059    28.0  reviewed              us        us  \n",
       "2     0.076    53.0  reviewed              us        us  \n",
       "3     0.069    65.0  reviewed              us        us  \n",
       "4     0.080    48.0  reviewed              us        us  \n",
       "\n",
       "[5 rows x 22 columns]"
      ]
     },
     "execution_count": 3,
     "metadata": {},
     "output_type": "execute_result"
    }
   ],
   "source": [
    "earthquake_df.head()"
   ]
  },
  {
   "cell_type": "code",
   "execution_count": 4,
   "id": "3bc2994d",
   "metadata": {},
   "outputs": [
    {
     "data": {
      "text/plain": [
       "(491, 22)"
      ]
     },
     "execution_count": 4,
     "metadata": {},
     "output_type": "execute_result"
    }
   ],
   "source": [
    "#Shape of the dataframe\n",
    "earthquake_df.shape"
   ]
  },
  {
   "cell_type": "markdown",
   "id": "e46d887a",
   "metadata": {},
   "source": [
    "The dataframe consists of 491 observations across 22 columns."
   ]
  },
  {
   "cell_type": "code",
   "execution_count": 5,
   "id": "d94a7eeb",
   "metadata": {},
   "outputs": [
    {
     "data": {
      "text/plain": [
       "True"
      ]
     },
     "execution_count": 5,
     "metadata": {},
     "output_type": "execute_result"
    }
   ],
   "source": [
    "#Checking for any NaN values in the dataframe\n",
    "nan_in_earthquake_df = earthquake_df.isnull().values.any()\n",
    "nan_in_earthquake_df"
   ]
  },
  {
   "cell_type": "code",
   "execution_count": 6,
   "id": "a407501b",
   "metadata": {},
   "outputs": [
    {
     "data": {
      "text/plain": [
       "43"
      ]
     },
     "execution_count": 6,
     "metadata": {},
     "output_type": "execute_result"
    }
   ],
   "source": [
    "#Number of NaN values in the earthquake dataframe\n",
    "earthquake_df.isnull().sum().sum()"
   ]
  },
  {
   "cell_type": "markdown",
   "id": "eceef9e4",
   "metadata": {},
   "source": [
    "There are a 43 NaN values in our dataframe. We need to remove these values for an accurate analysis."
   ]
  },
  {
   "cell_type": "code",
   "execution_count": 7,
   "id": "2e9462fe",
   "metadata": {},
   "outputs": [],
   "source": [
    "#Remove NaN values\n",
    "earthquake_df = earthquake_df.dropna()"
   ]
  },
  {
   "cell_type": "code",
   "execution_count": 8,
   "id": "09867ee9",
   "metadata": {},
   "outputs": [
    {
     "data": {
      "text/plain": [
       "False"
      ]
     },
     "execution_count": 8,
     "metadata": {},
     "output_type": "execute_result"
    }
   ],
   "source": [
    "#Check for NaN again\n",
    "earthquake_df.isnull().values.any()"
   ]
  },
  {
   "cell_type": "markdown",
   "id": "b683d198",
   "metadata": {},
   "source": [
    "As we can see in the output, there are no missing values in our dataframe anymore."
   ]
  },
  {
   "cell_type": "code",
   "execution_count": 9,
   "id": "95162dea",
   "metadata": {},
   "outputs": [
    {
     "data": {
      "text/plain": [
       "Index(['time', 'latitude', 'longitude', 'depth', 'mag', 'magType', 'nst',\n",
       "       'gap', 'dmin', 'rms', 'net', 'id', 'updated', 'place', 'type',\n",
       "       'horizontalError', 'depthError', 'magError', 'magNst', 'status',\n",
       "       'locationSource', 'magSource'],\n",
       "      dtype='object')"
      ]
     },
     "execution_count": 9,
     "metadata": {},
     "output_type": "execute_result"
    }
   ],
   "source": [
    "#Looking at the columns\n",
    "earthquake_df.columns"
   ]
  },
  {
   "cell_type": "code",
   "execution_count": 10,
   "id": "71677fac",
   "metadata": {},
   "outputs": [],
   "source": [
    "#Dropping unneccessary columns not needed for our analysis\n",
    "earthquake = earthquake_df.drop(columns=['magType', 'updated','gap','net','locationSource','magSource','rms','nst','magNst','type','id'], axis=1)"
   ]
  },
  {
   "cell_type": "code",
   "execution_count": 11,
   "id": "1cb23170",
   "metadata": {},
   "outputs": [],
   "source": [
    "#Rename columns for better understanding\n",
    "earthquake = earthquake.rename(columns = {'mag':'Magnitude', 'dmin':'Distance from epicenter to station (Degrees)','time':'Time','latitude':'Latitude','longitude':'Longitude','depth':'Depth','place':'Place','horizontalError':'Horizontal Error','depthError':'Depth Error','magError':'Magnitude Error','status':'Status'})"
   ]
  },
  {
   "cell_type": "code",
   "execution_count": 12,
   "id": "317152eb",
   "metadata": {},
   "outputs": [],
   "source": [
    "#Creating a new column for countries\n",
    "earthquake['Country/region'] = earthquake.Place.str.split(', ').str[-1]"
   ]
  },
  {
   "cell_type": "code",
   "execution_count": 13,
   "id": "c4da1e7d",
   "metadata": {},
   "outputs": [],
   "source": [
    "#Creating a new column for Date\n",
    "earthquake['Date'] = earthquake.Time.str.split('T').str[0]"
   ]
  },
  {
   "cell_type": "markdown",
   "id": "7773cf88",
   "metadata": {},
   "source": [
    "### Data Summarization"
   ]
  },
  {
   "cell_type": "code",
   "execution_count": 14,
   "id": "580aa58d",
   "metadata": {},
   "outputs": [
    {
     "data": {
      "text/plain": [
       "(478, 13)"
      ]
     },
     "execution_count": 14,
     "metadata": {},
     "output_type": "execute_result"
    }
   ],
   "source": [
    "earthquake.shape"
   ]
  },
  {
   "cell_type": "markdown",
   "id": "06050d47",
   "metadata": {},
   "source": [
    "Our cleaned dataframe consists of 478 observations across 13 columns. This means that there were a total of 478 earthquake observations during the last month. Note that these earthquakes had a magnitude of 4.5+ so they were observed by everyone and most likely caused some kind of damage."
   ]
  },
  {
   "cell_type": "code",
   "execution_count": 15,
   "id": "ece7f331",
   "metadata": {},
   "outputs": [
    {
     "data": {
      "text/html": [
       "<div>\n",
       "<style scoped>\n",
       "    .dataframe tbody tr th:only-of-type {\n",
       "        vertical-align: middle;\n",
       "    }\n",
       "\n",
       "    .dataframe tbody tr th {\n",
       "        vertical-align: top;\n",
       "    }\n",
       "\n",
       "    .dataframe thead th {\n",
       "        text-align: right;\n",
       "    }\n",
       "</style>\n",
       "<table border=\"1\" class=\"dataframe\">\n",
       "  <thead>\n",
       "    <tr style=\"text-align: right;\">\n",
       "      <th></th>\n",
       "      <th>Time</th>\n",
       "      <th>Latitude</th>\n",
       "      <th>Longitude</th>\n",
       "      <th>Depth</th>\n",
       "      <th>Magnitude</th>\n",
       "      <th>Distance from epicenter to station (Degrees)</th>\n",
       "      <th>Place</th>\n",
       "      <th>Horizontal Error</th>\n",
       "      <th>Depth Error</th>\n",
       "      <th>Magnitude Error</th>\n",
       "      <th>Status</th>\n",
       "      <th>Country/region</th>\n",
       "      <th>Date</th>\n",
       "    </tr>\n",
       "  </thead>\n",
       "  <tbody>\n",
       "    <tr>\n",
       "      <th>0</th>\n",
       "      <td>2022-11-04T00:37:58.751Z</td>\n",
       "      <td>-21.7794</td>\n",
       "      <td>-68.5191</td>\n",
       "      <td>113.214</td>\n",
       "      <td>4.8</td>\n",
       "      <td>0.672</td>\n",
       "      <td>85 km NNE of Calama, Chile</td>\n",
       "      <td>4.67</td>\n",
       "      <td>5.292</td>\n",
       "      <td>0.035</td>\n",
       "      <td>reviewed</td>\n",
       "      <td>Chile</td>\n",
       "      <td>2022-11-04</td>\n",
       "    </tr>\n",
       "    <tr>\n",
       "      <th>1</th>\n",
       "      <td>2022-11-04T00:29:21.863Z</td>\n",
       "      <td>38.3572</td>\n",
       "      <td>27.2181</td>\n",
       "      <td>10.000</td>\n",
       "      <td>4.8</td>\n",
       "      <td>1.061</td>\n",
       "      <td>7 km ESE of Karabağlar, Turkey</td>\n",
       "      <td>3.10</td>\n",
       "      <td>1.899</td>\n",
       "      <td>0.059</td>\n",
       "      <td>reviewed</td>\n",
       "      <td>Turkey</td>\n",
       "      <td>2022-11-04</td>\n",
       "    </tr>\n",
       "    <tr>\n",
       "      <th>2</th>\n",
       "      <td>2022-11-03T23:58:04.886Z</td>\n",
       "      <td>-15.1216</td>\n",
       "      <td>167.4579</td>\n",
       "      <td>220.081</td>\n",
       "      <td>4.7</td>\n",
       "      <td>7.452</td>\n",
       "      <td>42 km ESE of Port-Olry, Vanuatu</td>\n",
       "      <td>8.69</td>\n",
       "      <td>4.028</td>\n",
       "      <td>0.076</td>\n",
       "      <td>reviewed</td>\n",
       "      <td>Vanuatu</td>\n",
       "      <td>2022-11-03</td>\n",
       "    </tr>\n",
       "    <tr>\n",
       "      <th>3</th>\n",
       "      <td>2022-11-03T21:29:48.996Z</td>\n",
       "      <td>0.5353</td>\n",
       "      <td>126.7061</td>\n",
       "      <td>66.373</td>\n",
       "      <td>4.9</td>\n",
       "      <td>0.701</td>\n",
       "      <td>80 km WSW of Ternate, Indonesia</td>\n",
       "      <td>6.93</td>\n",
       "      <td>7.100</td>\n",
       "      <td>0.069</td>\n",
       "      <td>reviewed</td>\n",
       "      <td>Indonesia</td>\n",
       "      <td>2022-11-03</td>\n",
       "    </tr>\n",
       "    <tr>\n",
       "      <th>4</th>\n",
       "      <td>2022-11-03T21:08:47.143Z</td>\n",
       "      <td>-41.1095</td>\n",
       "      <td>-16.5639</td>\n",
       "      <td>10.000</td>\n",
       "      <td>4.7</td>\n",
       "      <td>18.714</td>\n",
       "      <td>southern Mid-Atlantic Ridge</td>\n",
       "      <td>11.84</td>\n",
       "      <td>1.897</td>\n",
       "      <td>0.080</td>\n",
       "      <td>reviewed</td>\n",
       "      <td>southern Mid-Atlantic Ridge</td>\n",
       "      <td>2022-11-03</td>\n",
       "    </tr>\n",
       "  </tbody>\n",
       "</table>\n",
       "</div>"
      ],
      "text/plain": [
       "                       Time  Latitude  Longitude    Depth  Magnitude  \\\n",
       "0  2022-11-04T00:37:58.751Z  -21.7794   -68.5191  113.214        4.8   \n",
       "1  2022-11-04T00:29:21.863Z   38.3572    27.2181   10.000        4.8   \n",
       "2  2022-11-03T23:58:04.886Z  -15.1216   167.4579  220.081        4.7   \n",
       "3  2022-11-03T21:29:48.996Z    0.5353   126.7061   66.373        4.9   \n",
       "4  2022-11-03T21:08:47.143Z  -41.1095   -16.5639   10.000        4.7   \n",
       "\n",
       "   Distance from epicenter to station (Degrees)  \\\n",
       "0                                         0.672   \n",
       "1                                         1.061   \n",
       "2                                         7.452   \n",
       "3                                         0.701   \n",
       "4                                        18.714   \n",
       "\n",
       "                             Place  Horizontal Error  Depth Error  \\\n",
       "0       85 km NNE of Calama, Chile              4.67        5.292   \n",
       "1   7 km ESE of Karabağlar, Turkey              3.10        1.899   \n",
       "2  42 km ESE of Port-Olry, Vanuatu              8.69        4.028   \n",
       "3  80 km WSW of Ternate, Indonesia              6.93        7.100   \n",
       "4      southern Mid-Atlantic Ridge             11.84        1.897   \n",
       "\n",
       "   Magnitude Error    Status               Country/region        Date  \n",
       "0            0.035  reviewed                        Chile  2022-11-04  \n",
       "1            0.059  reviewed                       Turkey  2022-11-04  \n",
       "2            0.076  reviewed                      Vanuatu  2022-11-03  \n",
       "3            0.069  reviewed                    Indonesia  2022-11-03  \n",
       "4            0.080  reviewed  southern Mid-Atlantic Ridge  2022-11-03  "
      ]
     },
     "execution_count": 15,
     "metadata": {},
     "output_type": "execute_result"
    }
   ],
   "source": [
    "earthquake.head()"
   ]
  },
  {
   "cell_type": "code",
   "execution_count": 16,
   "id": "9bd1559f",
   "metadata": {},
   "outputs": [
    {
     "data": {
      "text/html": [
       "<div>\n",
       "<style scoped>\n",
       "    .dataframe tbody tr th:only-of-type {\n",
       "        vertical-align: middle;\n",
       "    }\n",
       "\n",
       "    .dataframe tbody tr th {\n",
       "        vertical-align: top;\n",
       "    }\n",
       "\n",
       "    .dataframe thead th {\n",
       "        text-align: right;\n",
       "    }\n",
       "</style>\n",
       "<table border=\"1\" class=\"dataframe\">\n",
       "  <thead>\n",
       "    <tr style=\"text-align: right;\">\n",
       "      <th></th>\n",
       "      <th>Latitude</th>\n",
       "      <th>Longitude</th>\n",
       "      <th>Depth</th>\n",
       "      <th>Magnitude</th>\n",
       "      <th>Distance from epicenter to station (Degrees)</th>\n",
       "      <th>Horizontal Error</th>\n",
       "      <th>Depth Error</th>\n",
       "      <th>Magnitude Error</th>\n",
       "    </tr>\n",
       "  </thead>\n",
       "  <tbody>\n",
       "    <tr>\n",
       "      <th>count</th>\n",
       "      <td>478.000000</td>\n",
       "      <td>478.000000</td>\n",
       "      <td>478.000000</td>\n",
       "      <td>478.000000</td>\n",
       "      <td>478.000000</td>\n",
       "      <td>478.000000</td>\n",
       "      <td>478.000000</td>\n",
       "      <td>478.000000</td>\n",
       "    </tr>\n",
       "    <tr>\n",
       "      <th>mean</th>\n",
       "      <td>2.372600</td>\n",
       "      <td>27.714918</td>\n",
       "      <td>76.568540</td>\n",
       "      <td>4.804393</td>\n",
       "      <td>4.469287</td>\n",
       "      <td>8.599163</td>\n",
       "      <td>4.510864</td>\n",
       "      <td>0.093071</td>\n",
       "    </tr>\n",
       "    <tr>\n",
       "      <th>std</th>\n",
       "      <td>30.556679</td>\n",
       "      <td>119.319963</td>\n",
       "      <td>119.302578</td>\n",
       "      <td>0.344207</td>\n",
       "      <td>5.269115</td>\n",
       "      <td>2.842520</td>\n",
       "      <td>2.796730</td>\n",
       "      <td>0.046461</td>\n",
       "    </tr>\n",
       "    <tr>\n",
       "      <th>min</th>\n",
       "      <td>-60.796200</td>\n",
       "      <td>-179.997300</td>\n",
       "      <td>3.604000</td>\n",
       "      <td>4.460000</td>\n",
       "      <td>0.108000</td>\n",
       "      <td>1.810000</td>\n",
       "      <td>0.578000</td>\n",
       "      <td>0.024000</td>\n",
       "    </tr>\n",
       "    <tr>\n",
       "      <th>25%</th>\n",
       "      <td>-17.101750</td>\n",
       "      <td>-76.229775</td>\n",
       "      <td>10.000000</td>\n",
       "      <td>4.520000</td>\n",
       "      <td>1.390250</td>\n",
       "      <td>6.727500</td>\n",
       "      <td>1.888250</td>\n",
       "      <td>0.061250</td>\n",
       "    </tr>\n",
       "    <tr>\n",
       "      <th>50%</th>\n",
       "      <td>-1.066900</td>\n",
       "      <td>79.864700</td>\n",
       "      <td>35.000000</td>\n",
       "      <td>4.700000</td>\n",
       "      <td>2.553000</td>\n",
       "      <td>8.405000</td>\n",
       "      <td>4.283000</td>\n",
       "      <td>0.082500</td>\n",
       "    </tr>\n",
       "    <tr>\n",
       "      <th>75%</th>\n",
       "      <td>24.539200</td>\n",
       "      <td>131.058700</td>\n",
       "      <td>84.393000</td>\n",
       "      <td>4.900000</td>\n",
       "      <td>5.317500</td>\n",
       "      <td>10.537500</td>\n",
       "      <td>6.714250</td>\n",
       "      <td>0.112000</td>\n",
       "    </tr>\n",
       "    <tr>\n",
       "      <th>max</th>\n",
       "      <td>82.805200</td>\n",
       "      <td>178.023700</td>\n",
       "      <td>628.102000</td>\n",
       "      <td>6.700000</td>\n",
       "      <td>35.518000</td>\n",
       "      <td>16.140000</td>\n",
       "      <td>16.519000</td>\n",
       "      <td>0.390000</td>\n",
       "    </tr>\n",
       "  </tbody>\n",
       "</table>\n",
       "</div>"
      ],
      "text/plain": [
       "         Latitude   Longitude       Depth   Magnitude  \\\n",
       "count  478.000000  478.000000  478.000000  478.000000   \n",
       "mean     2.372600   27.714918   76.568540    4.804393   \n",
       "std     30.556679  119.319963  119.302578    0.344207   \n",
       "min    -60.796200 -179.997300    3.604000    4.460000   \n",
       "25%    -17.101750  -76.229775   10.000000    4.520000   \n",
       "50%     -1.066900   79.864700   35.000000    4.700000   \n",
       "75%     24.539200  131.058700   84.393000    4.900000   \n",
       "max     82.805200  178.023700  628.102000    6.700000   \n",
       "\n",
       "       Distance from epicenter to station (Degrees)  Horizontal Error  \\\n",
       "count                                    478.000000        478.000000   \n",
       "mean                                       4.469287          8.599163   \n",
       "std                                        5.269115          2.842520   \n",
       "min                                        0.108000          1.810000   \n",
       "25%                                        1.390250          6.727500   \n",
       "50%                                        2.553000          8.405000   \n",
       "75%                                        5.317500         10.537500   \n",
       "max                                       35.518000         16.140000   \n",
       "\n",
       "       Depth Error  Magnitude Error  \n",
       "count   478.000000       478.000000  \n",
       "mean      4.510864         0.093071  \n",
       "std       2.796730         0.046461  \n",
       "min       0.578000         0.024000  \n",
       "25%       1.888250         0.061250  \n",
       "50%       4.283000         0.082500  \n",
       "75%       6.714250         0.112000  \n",
       "max      16.519000         0.390000  "
      ]
     },
     "execution_count": 16,
     "metadata": {},
     "output_type": "execute_result"
    }
   ],
   "source": [
    "#Description of the dataframe\n",
    "earthquake.describe()"
   ]
  },
  {
   "cell_type": "markdown",
   "id": "4a454464",
   "metadata": {},
   "source": [
    "#### Description of the variables"
   ]
  },
  {
   "cell_type": "markdown",
   "id": "c78d2271",
   "metadata": {},
   "source": [
    "After getting rid of the columns not needed for the analysis, our dataframe consists of 11 columns. \n",
    "\n",
    "The description of all the columns is given below:\n",
    "\n",
    "Time - The time when the event occurred measured in milliseconds.\n",
    "\n",
    "Latitude - Latitude in decimal degrees. Negative values indicate southern latitudes.\n",
    "\n",
    "Longitude - Longitude in decimal degrees. Negative values indicate western longitudes.\n",
    "\n",
    "Depth - Depth of the event in kilometers.\n",
    "\n",
    "Magnitude - Magnitude of the event.\n",
    "\n",
    "Distance - Horizontal distance from the epicenter to the nearest station (in degrees) where 1 degree is approximately 111.2 KM. In general, the smaller this number, the more reliable is the calculated depth of the earthquake.\n",
    "\n",
    "Place - Named geographic region near to the event. This may be a city name.\n",
    "\n",
    "Horizontal Error - Uncertainty of reported location of the event in kilometers.\n",
    "\n",
    "Depth Error - Depth error in kilometers.\n",
    "\n",
    "Magnitude Error - Uncertainty of reported magnitude of the event. The estimated standard error of the magnitude.\n",
    "\n",
    "Status - Indicates whether the event has been reviewed by a human or is automatic/deleted.\n",
    "\n",
    "Country/region - Country or region where the earthquake was observed.\n",
    "\n",
    "Date - Date when the earthquake was observed."
   ]
  },
  {
   "cell_type": "code",
   "execution_count": 17,
   "id": "2518152c",
   "metadata": {},
   "outputs": [
    {
     "data": {
      "text/plain": [
       "False"
      ]
     },
     "execution_count": 17,
     "metadata": {},
     "output_type": "execute_result"
    }
   ],
   "source": [
    "#Checking the 'Status' column for all the earthquakes\n",
    "earthquake['Status'].str.contains('automatic').any()\n",
    "earthquake['Status'].str.contains('deleted').any()"
   ]
  },
  {
   "cell_type": "markdown",
   "id": "75fc5186",
   "metadata": {},
   "source": [
    "The code above shows that all the earthquake events have been reviewed by a human since there are no 'automatic' or 'deleted' observations in the dataframe."
   ]
  },
  {
   "cell_type": "code",
   "execution_count": 18,
   "id": "6c6622dd",
   "metadata": {},
   "outputs": [
    {
     "data": {
      "text/plain": [
       "('2022-10-05', '2022-11-04')"
      ]
     },
     "execution_count": 18,
     "metadata": {},
     "output_type": "execute_result"
    }
   ],
   "source": [
    "# Looking at the earliest and the latest dates of the earthquakes data recorded in our dataframe\n",
    "Date_start = earthquake[\"Date\"].min()\n",
    "Date_end = earthquake[\"Date\"].max()\n",
    "Date_start,Date_end"
   ]
  },
  {
   "cell_type": "markdown",
   "id": "6d5d034e",
   "metadata": {},
   "source": [
    "So, we have data collected over 30 days from 5th October 2022 to 4th November 2022 (considering the fact that October has 31 days)."
   ]
  },
  {
   "cell_type": "code",
   "execution_count": 19,
   "id": "fc3e2d5a",
   "metadata": {},
   "outputs": [
    {
     "data": {
      "text/plain": [
       "('2022-10-05T02:59:32.208Z', '2022-11-04T00:37:58.751Z')"
      ]
     },
     "execution_count": 19,
     "metadata": {},
     "output_type": "execute_result"
    }
   ],
   "source": [
    "# Looking at the earliest and the latest dates and time of the earthquakes data recorded in our dataframe\n",
    "Time_start = earthquake[\"Time\"].min()\n",
    "Time_end = earthquake[\"Time\"].max()\n",
    "Time_start,Time_end"
   ]
  },
  {
   "cell_type": "markdown",
   "id": "9578387b",
   "metadata": {},
   "source": [
    "### Seismic Data Analysis"
   ]
  },
  {
   "cell_type": "markdown",
   "id": "5c12b43f",
   "metadata": {},
   "source": [
    "In order to carry out my analysis, I grouped the data by country."
   ]
  },
  {
   "cell_type": "code",
   "execution_count": 20,
   "id": "502f508d",
   "metadata": {},
   "outputs": [
    {
     "data": {
      "text/plain": [
       "<pandas.core.groupby.generic.DataFrameGroupBy object at 0x000002573D586C70>"
      ]
     },
     "execution_count": 20,
     "metadata": {},
     "output_type": "execute_result"
    }
   ],
   "source": [
    "#Grouping the data by country\n",
    "groupby_countries = earthquake.groupby('Country/region')\n",
    "groupby_countries"
   ]
  },
  {
   "cell_type": "code",
   "execution_count": 21,
   "id": "ac5725b3",
   "metadata": {},
   "outputs": [
    {
     "data": {
      "text/plain": [
       "96"
      ]
     },
     "execution_count": 21,
     "metadata": {},
     "output_type": "execute_result"
    }
   ],
   "source": [
    "#Checking the total number of countries in our earthquake dataframe\n",
    "len(groupby_countries)"
   ]
  },
  {
   "cell_type": "markdown",
   "id": "a9c4c7df",
   "metadata": {},
   "source": [
    "Our dataframe covers the earthquake observations collected across 96 countries/regions during the last 1 month."
   ]
  },
  {
   "cell_type": "code",
   "execution_count": 22,
   "id": "f79c418f",
   "metadata": {},
   "outputs": [
    {
     "data": {
      "text/plain": [
       "['Afghanistan',\n",
       " 'Afghanistan-Tajikistan border region',\n",
       " 'Alaska',\n",
       " 'Argentina',\n",
       " 'Banda Sea',\n",
       " 'Bolivia',\n",
       " 'Carlsberg Ridge',\n",
       " 'Chagos Archipelago region',\n",
       " 'Chile',\n",
       " 'China',\n",
       " 'Colombia',\n",
       " 'Costa Rica',\n",
       " 'Dominican Republic',\n",
       " 'Ecuador',\n",
       " 'El Salvador',\n",
       " 'Federated States of Micronesia',\n",
       " 'Fiji',\n",
       " 'Fiji region',\n",
       " 'Flores Sea',\n",
       " 'Greece',\n",
       " 'Greenland Sea',\n",
       " 'Guam',\n",
       " 'Guatemala',\n",
       " 'Gulf of Mexico',\n",
       " 'Iceland region',\n",
       " 'India',\n",
       " 'India region',\n",
       " 'Indian Ocean Triple Junction',\n",
       " 'Indonesia',\n",
       " 'Iran',\n",
       " 'Japan',\n",
       " 'Japan region',\n",
       " 'Kermadec Islands region',\n",
       " 'Kuril Islands',\n",
       " 'Leeward Islands',\n",
       " 'Mauritius',\n",
       " 'Mexico',\n",
       " 'Mid-Indian Ridge',\n",
       " 'Myanmar',\n",
       " 'Nepal',\n",
       " 'New Caledonia',\n",
       " 'New Zealand',\n",
       " 'Nicaragua',\n",
       " 'North Island of New Zealand',\n",
       " 'North Pacific Ocean',\n",
       " 'Northern Mariana Islands',\n",
       " 'Owen Fracture Zone region',\n",
       " 'Pacific-Antarctic Ridge',\n",
       " 'Panama',\n",
       " 'Papua New Guinea',\n",
       " 'Peru',\n",
       " 'Philippines',\n",
       " 'Revilla Gigedo Islands region',\n",
       " 'Reykjanes Ridge',\n",
       " 'Romania',\n",
       " 'Russia',\n",
       " 'Saint Helena',\n",
       " 'Santa Cruz Islands',\n",
       " 'Santa Cruz Islands region',\n",
       " 'Solomon Islands',\n",
       " 'South Sandwich Islands region',\n",
       " 'Southwest Indian Ridge',\n",
       " 'Taiwan',\n",
       " 'Timor Leste',\n",
       " 'Tonga',\n",
       " 'Tristan da Cunha region',\n",
       " 'Turkey',\n",
       " 'Vanuatu',\n",
       " 'Venezuela',\n",
       " 'West Chile Rise',\n",
       " 'central East Pacific Rise',\n",
       " 'central Mid-Atlantic Ridge',\n",
       " 'east of the North Island of New Zealand',\n",
       " 'east of the South Sandwich Islands',\n",
       " 'near the coast of Ecuador',\n",
       " 'near the coast of Nicaragua',\n",
       " 'near the coast of central Peru',\n",
       " 'near the coast of northern Peru',\n",
       " 'north of Ascension Island',\n",
       " 'north of Severnaya Zemlya',\n",
       " 'northern Mid-Atlantic Ridge',\n",
       " 'off the coast of Central America',\n",
       " 'off the coast of Ecuador',\n",
       " 'offshore Guatemala',\n",
       " 'south of Africa',\n",
       " 'south of Alaska',\n",
       " 'south of the Fiji Islands',\n",
       " 'south of the Kermadec Islands',\n",
       " 'southeast Indian Ridge',\n",
       " 'southeast of Easter Island',\n",
       " 'southern Iran',\n",
       " 'southern Italy',\n",
       " 'southern Mid-Atlantic Ridge',\n",
       " 'west of Macquarie Island',\n",
       " 'western Indian-Antarctic Ridge',\n",
       " 'western Xizang']"
      ]
     },
     "execution_count": 22,
     "metadata": {},
     "output_type": "execute_result"
    }
   ],
   "source": [
    "#List of all the countries/regions in our dataframe\n",
    "countries = groupby_countries.groups\n",
    "list(countries.keys())"
   ]
  },
  {
   "cell_type": "markdown",
   "id": "67ef2303",
   "metadata": {},
   "source": [
    "### Frequency of earthquakes per country"
   ]
  },
  {
   "cell_type": "code",
   "execution_count": 23,
   "id": "abff99c7",
   "metadata": {},
   "outputs": [
    {
     "data": {
      "text/plain": [
       "Text(0, 0.5, 'Count')"
      ]
     },
     "execution_count": 23,
     "metadata": {},
     "output_type": "execute_result"
    },
    {
     "data": {
      "image/png": "[encoded data removed]",
      "text/plain": [
       "<Figure size 864x576 with 1 Axes>"
      ]
     },
     "metadata": {
      "needs_background": "light"
     },
     "output_type": "display_data"
    }
   ],
   "source": [
    "#Plotting the data grouped by country with most counts of earthquakes\n",
    "groupby_countries.Magnitude.count().nlargest(25).plot(kind='bar', figsize=(12,8), color=['purple'])\n",
    "plt.title(\"Top 25 countries that observed largest number of earthquake observations over the last month\")\n",
    "plt.ylabel(\"Count\")"
   ]
  },
  {
   "cell_type": "markdown",
   "id": "b3455ca4",
   "metadata": {},
   "source": [
    "Looking at the graph, we can see that Indonesia has had the highest number of earthquakes over the last 1 month, followed by Japan, Peru, Philippines and so on. New Zealand ranks on number 25 in terms of most earthquakes observed in the last month."
   ]
  },
  {
   "cell_type": "markdown",
   "id": "054fb239",
   "metadata": {},
   "source": [
    "###  Magnitudes observed across the countries"
   ]
  },
  {
   "cell_type": "code",
   "execution_count": 24,
   "id": "4524261c",
   "metadata": {},
   "outputs": [
    {
     "data": {
      "text/html": [
       "<div>\n",
       "<style scoped>\n",
       "    .dataframe tbody tr th:only-of-type {\n",
       "        vertical-align: middle;\n",
       "    }\n",
       "\n",
       "    .dataframe tbody tr th {\n",
       "        vertical-align: top;\n",
       "    }\n",
       "\n",
       "    .dataframe thead th {\n",
       "        text-align: right;\n",
       "    }\n",
       "</style>\n",
       "<table border=\"1\" class=\"dataframe\">\n",
       "  <thead>\n",
       "    <tr style=\"text-align: right;\">\n",
       "      <th></th>\n",
       "      <th>Min</th>\n",
       "      <th>Max</th>\n",
       "      <th>Mean</th>\n",
       "    </tr>\n",
       "    <tr>\n",
       "      <th>Country/region</th>\n",
       "      <th></th>\n",
       "      <th></th>\n",
       "      <th></th>\n",
       "    </tr>\n",
       "  </thead>\n",
       "  <tbody>\n",
       "    <tr>\n",
       "      <th>Afghanistan</th>\n",
       "      <td>4.9</td>\n",
       "      <td>4.9</td>\n",
       "      <td>4.900000</td>\n",
       "    </tr>\n",
       "    <tr>\n",
       "      <th>Afghanistan-Tajikistan border region</th>\n",
       "      <td>5.0</td>\n",
       "      <td>5.0</td>\n",
       "      <td>5.000000</td>\n",
       "    </tr>\n",
       "    <tr>\n",
       "      <th>Alaska</th>\n",
       "      <td>4.5</td>\n",
       "      <td>4.9</td>\n",
       "      <td>4.700000</td>\n",
       "    </tr>\n",
       "    <tr>\n",
       "      <th>Argentina</th>\n",
       "      <td>4.5</td>\n",
       "      <td>5.1</td>\n",
       "      <td>4.766667</td>\n",
       "    </tr>\n",
       "    <tr>\n",
       "      <th>Banda Sea</th>\n",
       "      <td>4.6</td>\n",
       "      <td>5.3</td>\n",
       "      <td>4.925000</td>\n",
       "    </tr>\n",
       "    <tr>\n",
       "      <th>Bolivia</th>\n",
       "      <td>5.1</td>\n",
       "      <td>5.1</td>\n",
       "      <td>5.100000</td>\n",
       "    </tr>\n",
       "    <tr>\n",
       "      <th>Carlsberg Ridge</th>\n",
       "      <td>4.5</td>\n",
       "      <td>4.5</td>\n",
       "      <td>4.500000</td>\n",
       "    </tr>\n",
       "    <tr>\n",
       "      <th>Chagos Archipelago region</th>\n",
       "      <td>4.7</td>\n",
       "      <td>4.7</td>\n",
       "      <td>4.700000</td>\n",
       "    </tr>\n",
       "    <tr>\n",
       "      <th>Chile</th>\n",
       "      <td>4.5</td>\n",
       "      <td>5.3</td>\n",
       "      <td>4.854545</td>\n",
       "    </tr>\n",
       "    <tr>\n",
       "      <th>China</th>\n",
       "      <td>4.5</td>\n",
       "      <td>5.3</td>\n",
       "      <td>4.850000</td>\n",
       "    </tr>\n",
       "  </tbody>\n",
       "</table>\n",
       "</div>"
      ],
      "text/plain": [
       "                                      Min  Max      Mean\n",
       "Country/region                                          \n",
       "Afghanistan                           4.9  4.9  4.900000\n",
       "Afghanistan-Tajikistan border region  5.0  5.0  5.000000\n",
       "Alaska                                4.5  4.9  4.700000\n",
       "Argentina                             4.5  5.1  4.766667\n",
       "Banda Sea                             4.6  5.3  4.925000\n",
       "Bolivia                               5.1  5.1  5.100000\n",
       "Carlsberg Ridge                       4.5  4.5  4.500000\n",
       "Chagos Archipelago region             4.7  4.7  4.700000\n",
       "Chile                                 4.5  5.3  4.854545\n",
       "China                                 4.5  5.3  4.850000"
      ]
     },
     "execution_count": 24,
     "metadata": {},
     "output_type": "execute_result"
    }
   ],
   "source": [
    "#Looking at the minimum, maximum and average magnitude for each country\n",
    "max_min_magnitude = groupby_countries.Magnitude.aggregate([np.min, np.max, np.mean])\n",
    "max_min_magnitude.columns = ['Min','Max','Mean']\n",
    "max_min_magnitude.head(10)"
   ]
  },
  {
   "cell_type": "code",
   "execution_count": 25,
   "id": "2f7ffe13",
   "metadata": {},
   "outputs": [
    {
     "data": {
      "text/plain": [
       "Country/region\n",
       "North Pacific Ocean                        6.000000\n",
       "Saint Helena                               5.800000\n",
       "West Chile Rise                            5.800000\n",
       "Pacific-Antarctic Ridge                    5.700000\n",
       "east of the North Island of New Zealand    5.500000\n",
       "southern Italy                             5.500000\n",
       "off the coast of Central America           5.450000\n",
       "central Mid-Atlantic Ridge                 5.266667\n",
       "Greece                                     5.200000\n",
       "north of Ascension Island                  5.200000\n",
       "Name: Magnitude, dtype: float64"
      ]
     },
     "execution_count": 25,
     "metadata": {},
     "output_type": "execute_result"
    }
   ],
   "source": [
    "#Looking at the countries with the highest average magnitudes\n",
    "groupby_countries.Magnitude.mean().nlargest(10)"
   ]
  },
  {
   "cell_type": "markdown",
   "id": "a1c45c2b",
   "metadata": {},
   "source": [
    "North Pacific ocean seems to have the highest average magnitude over the last month at a value of 6 on the Richter scale."
   ]
  },
  {
   "cell_type": "code",
   "execution_count": 26,
   "id": "67510fc9",
   "metadata": {},
   "outputs": [
    {
     "data": {
      "text/plain": [
       "Country/region\n",
       "Leeward Islands                   4.46\n",
       "Carlsberg Ridge                   4.50\n",
       "Costa Rica                        4.50\n",
       "Federated States of Micronesia    4.50\n",
       "Greenland Sea                     4.50\n",
       "Guatemala                         4.50\n",
       "Gulf of Mexico                    4.50\n",
       "Iceland region                    4.50\n",
       "India region                      4.50\n",
       "Indian Ocean Triple Junction      4.50\n",
       "Name: Magnitude, dtype: float64"
      ]
     },
     "execution_count": 26,
     "metadata": {},
     "output_type": "execute_result"
    }
   ],
   "source": [
    "#Looking at the countries with the smallest magnitudes on average\n",
    "groupby_countries.Magnitude.mean().nsmallest(10)"
   ]
  },
  {
   "cell_type": "markdown",
   "id": "945213a5",
   "metadata": {},
   "source": [
    "Countries/regions with the smallest magnitude on average are Carlsberg Ridge, Costa Rica, Federated States of Micronesia, Greenland Sea, Guatemala, Gulf of Mexico, Iceland region, India region  and Indian Ocean Triple Junction observing earthquakes of magnitude 4.5 on the Richter scale over the last month."
   ]
  },
  {
   "cell_type": "code",
   "execution_count": 27,
   "id": "01d82e04",
   "metadata": {},
   "outputs": [
    {
     "data": {
      "text/plain": [
       "<AxesSubplot:title={'center':'Top 15 Countries with highest average earthquake magnitude'}, xlabel='Country/region', ylabel='Magnitude'>"
      ]
     },
     "execution_count": 27,
     "metadata": {},
     "output_type": "execute_result"
    },
    {
     "data": {
      "image/png": "[encoded data removed]",
      "text/plain": [
       "<Figure size 864x576 with 1 Axes>"
      ]
     },
     "metadata": {
      "needs_background": "light"
     },
     "output_type": "display_data"
    }
   ],
   "source": [
    "#Barplot for the top 10 countries in terms of average magnitude\n",
    "barplot = groupby_countries.Magnitude.aggregate([np.min, np.max, np.mean]).nlargest(15, 'mean').plot(kind='bar', figsize=(12,8), color=['purple','yellow','blue'])\n",
    "plt.title(\"Top 15 Countries with highest average earthquake magnitude\")\n",
    "plt.ylabel(\"Magnitude\")\n",
    "barplot"
   ]
  },
  {
   "cell_type": "markdown",
   "id": "cbbc04e0",
   "metadata": {},
   "source": [
    "The graph precisely shows the countries ordered by the highest average magnitude. It also shows the minimum and maximum magnitudes for the top 15 countries (in terms of magnitude) that observed earthquakes during the last month."
   ]
  },
  {
   "cell_type": "markdown",
   "id": "f8acaffd",
   "metadata": {},
   "source": [
    "Now I will be looking at the countries with the highest and the lowest absolute magnitude observed over the last month."
   ]
  },
  {
   "cell_type": "code",
   "execution_count": 28,
   "id": "6bda114b",
   "metadata": {},
   "outputs": [
    {
     "data": {
      "text/plain": [
       "Country/region\n",
       "Panama    6.7\n",
       "Name: Magnitude, dtype: float64"
      ]
     },
     "execution_count": 28,
     "metadata": {},
     "output_type": "execute_result"
    }
   ],
   "source": [
    "#Country with the highest magnitude observed over the last month\n",
    "groupby_countries.Magnitude.max().nlargest(1)"
   ]
  },
  {
   "cell_type": "markdown",
   "id": "02791d56",
   "metadata": {},
   "source": [
    "The output shows that during the last month, the country with the highest and possibly most damaging magnitude earthquake was Panama with a magnitude of 6.7 on Richter scale."
   ]
  },
  {
   "cell_type": "code",
   "execution_count": 29,
   "id": "9b0c577c",
   "metadata": {},
   "outputs": [
    {
     "data": {
      "text/plain": [
       "Country/region\n",
       "Leeward Islands    4.46\n",
       "Name: Magnitude, dtype: float64"
      ]
     },
     "execution_count": 29,
     "metadata": {},
     "output_type": "execute_result"
    }
   ],
   "source": [
    "#Country with the smallest magnitude observed over the last month\n",
    "groupby_countries.Magnitude.max().nsmallest(1)"
   ]
  },
  {
   "cell_type": "markdown",
   "id": "003a652d",
   "metadata": {},
   "source": [
    "The smallest magnitude observed during the last month was 4.46 on Richter scale by Leeward Islands."
   ]
  },
  {
   "cell_type": "code",
   "execution_count": 30,
   "id": "14fa0d9a",
   "metadata": {},
   "outputs": [
    {
     "data": {
      "text/plain": [
       "4.50    119\n",
       "4.60     88\n",
       "4.90     64\n",
       "4.70     53\n",
       "4.80     40\n",
       "5.00     26\n",
       "5.10     21\n",
       "5.20     21\n",
       "5.30     12\n",
       "5.40      9\n",
       "5.50      7\n",
       "5.80      4\n",
       "6.40      2\n",
       "6.30      2\n",
       "6.00      1\n",
       "6.10      1\n",
       "5.90      1\n",
       "4.58      1\n",
       "5.60      1\n",
       "4.66      1\n",
       "4.46      1\n",
       "6.70      1\n",
       "6.20      1\n",
       "5.70      1\n",
       "Name: Magnitude, dtype: int64"
      ]
     },
     "execution_count": 30,
     "metadata": {},
     "output_type": "execute_result"
    }
   ],
   "source": [
    "#Frequency of each magnitude level in the earthquake dataframe                                                                                                                                                                                                                                                                                                                                                                                                                                                                                                                                                                                                                                                                                                                                                                                                                                                                                                                                                                                                                                                                                                                                                                                                                                                                                                                                                                                                                                                                                                                                                                                                                                                                                                                                                                                                                                                                            \n",
    "freq = earthquake['Magnitude'].value_counts()\n",
    "freq"
   ]
  },
  {
   "cell_type": "code",
   "execution_count": 31,
   "id": "e7ad8e54",
   "metadata": {},
   "outputs": [
    {
     "data": {
      "text/plain": [
       "Text(0, 0.5, 'Frequency')"
      ]
     },
     "execution_count": 31,
     "metadata": {},
     "output_type": "execute_result"
    },
    {
     "data": {
      "image/png": "[encoded data removed]",
      "text/plain": [
       "<Figure size 432x288 with 1 Axes>"
      ]
     },
     "metadata": {
      "needs_background": "light"
     },
     "output_type": "display_data"
    }
   ],
   "source": [
    "fig = plt.figure()\n",
    "ax = fig.add_axes([.1, .1, 1, 1])\n",
    "ax.plot(freq, color='green')\n",
    "plt.title(\"Frequency of earthquakes' magnitude over the last month\")\n",
    "plt.xlabel(\"Magnitude\")\n",
    "plt.ylabel(\"Frequency\")"
   ]
  },
  {
   "cell_type": "markdown",
   "id": "b222479b",
   "metadata": {},
   "source": [
    "The line graph easily helps us see the frequency of each magnitude observed. Most earthquakes had a magnitude of 4.5 at a frequency of 119 whereas, there were very few earthquakes with a magnitude greater than 6."
   ]
  },
  {
   "cell_type": "markdown",
   "id": "ad4da3b5",
   "metadata": {},
   "source": [
    "I also wanted to look at the earthquake activity across each day of the last month. "
   ]
  },
  {
   "cell_type": "markdown",
   "id": "e49da0eb",
   "metadata": {},
   "source": [
    "### Analyzing the earthquake intensity observed on a per day scale during the last month across all the countries"
   ]
  },
  {
   "cell_type": "markdown",
   "id": "408cea56",
   "metadata": {},
   "source": [
    "I classified the earthquakes as 'Light', 'Moderate' and 'Strong'."
   ]
  },
  {
   "cell_type": "code",
   "execution_count": 32,
   "id": "0f02914c",
   "metadata": {},
   "outputs": [
    {
     "data": {
      "text/plain": [
       "Light       366\n",
       "Moderate    103\n",
       "Strong        8\n",
       "Name: Intensity, dtype: int64"
      ]
     },
     "execution_count": 32,
     "metadata": {},
     "output_type": "execute_result"
    }
   ],
   "source": [
    "#Total counts of light, moderate and strong earthquakes during the last month\n",
    "earthquake['Intensity'] = pd.cut(earthquake['Magnitude'], bins=[4.5, 4.9, 5.9, 6.9], include_lowest=True, labels=['Light', 'Moderate', 'Strong'])\n",
    "earthquake['Intensity'].value_counts()"
   ]
  },
  {
   "cell_type": "markdown",
   "id": "9d044595",
   "metadata": {},
   "source": [
    "During the last month there were 366 light, 103 moderate and 8 strong earthquakes across all the countries in our dataframe."
   ]
  },
  {
   "cell_type": "code",
   "execution_count": 33,
   "id": "9bd21a53",
   "metadata": {},
   "outputs": [
    {
     "data": {
      "image/png": "[encoded data removed]",
      "text/plain": [
       "<Figure size 864x576 with 1 Axes>"
      ]
     },
     "metadata": {
      "needs_background": "light"
     },
     "output_type": "display_data"
    }
   ],
   "source": [
    "#Scatter plot of magnitudes observed over the last 30 days\n",
    "x = earthquake['Date']\n",
    "y = earthquake['Magnitude']\n",
    "plt.figure(figsize=(12, 8))\n",
    "plt.scatter(x, y, color=['green' if 4.5<=v<=4.9 else 'yellow' if 5<=v<=5.9 else 'red' for v in y])\n",
    "plt.xticks(rotation = 90)\n",
    "plt.xlabel(\"Date\")\n",
    "plt.ylabel(\"Magnitudes Observed\")\n",
    "plt.title(\"All the magnitudes observed per day during the last month\")\n",
    "plt.show()"
   ]
  },
  {
   "cell_type": "markdown",
   "id": "edc82277",
   "metadata": {},
   "source": [
    "\n",
    "I assigned different colors to different earthquake intensities in the scatterplot.\n",
    "\n",
    "Magnitude 4.5-4.9 was assigned a green color indicating it was light.\n",
    "\n",
    "Magnitude 5-5.9 was assigned a yellow color indicating it was moderate.\n",
    "\n",
    "Magnitude > 6  was assigned a red color indicating it was strong.\n",
    "\n",
    "This helps us easily distinguish earthquakes with different intensities.Looking at the scatter plot, we can see that majority of the earthquakes during the last 30 days were of light to moderate intensity with magnitude between 4.5 and 5.9. With a few strong earthquakes with a high magnitude of over 6."
   ]
  },
  {
   "cell_type": "markdown",
   "id": "395ae784",
   "metadata": {},
   "source": [
    "### Depth Analysis"
   ]
  },
  {
   "cell_type": "code",
   "execution_count": 34,
   "id": "3db5c552",
   "metadata": {},
   "outputs": [
    {
     "data": {
      "text/plain": [
       "Shallow         339\n",
       "Intermediate    115\n",
       "Deep             24\n",
       "Name: Depth level, dtype: int64"
      ]
     },
     "execution_count": 34,
     "metadata": {},
     "output_type": "execute_result"
    }
   ],
   "source": [
    "#Categorize earthquakes in terms of depth(km)\n",
    "earthquake['Depth level'] = pd.cut(earthquake['Depth'], bins=[0, 70, 300, 700], include_lowest=True, labels=['Shallow', 'Intermediate', 'Deep'])\n",
    "earthquake['Depth level'].value_counts()"
   ]
  },
  {
   "cell_type": "markdown",
   "id": "e4e68993",
   "metadata": {},
   "source": [
    "As we can see in the output above, most of the earthquakes in the last month were shallow, shallow earthquakes tend to cause more damage than deep earthquakes so they can be considered a threat."
   ]
  },
  {
   "cell_type": "markdown",
   "id": "64cdd535",
   "metadata": {},
   "source": [
    "### Conclusions"
   ]
  },
  {
   "cell_type": "markdown",
   "id": "121c8b26",
   "metadata": {},
   "source": [
    "The aim of my analysis was to look at the daily earthquake activity across the globe during the last month in order to get an idea of how frequently earthquakes are being observed, how strong these earthquakes are and how likely they are to cause damage.\n",
    "\n",
    "My analysis shows that there were a total of 478 earthquake observations during the last month with magnitudes ranging from 4.5 to 6.9, these magnitudes are beleived to cause at least minor damage (for magnitude 4-4.9) as well as some serious damage (for magnitudes > 5). So we can consider this number of significant earthquakes to be concerning. \n",
    "\n",
    "My analysis also looked at the regions where the earthquakes were observed and as we can see in the list of the regions, most of the earthquakes were observed near coastal areas, the reason for this could be the movement of major tectonic plates in the region."
   ]
  },
  {
   "cell_type": "markdown",
   "id": "f0d7760b",
   "metadata": {},
   "source": [
    "### Challenges"
   ]
  },
  {
   "cell_type": "markdown",
   "id": "62b2927d",
   "metadata": {},
   "source": [
    "One challenge of using this earthquake catalog could be the fact that it provides spreadsheet data for last 30 days so in order to get yearly data, you would have to repeat the data collection step several times. However, it was not required for my analysis of interest."
   ]
  },
  {
   "cell_type": "markdown",
   "id": "eec28746",
   "metadata": {},
   "source": [
    "### Future analysis"
   ]
  },
  {
   "cell_type": "markdown",
   "id": "9e990ca7",
   "metadata": {},
   "source": [
    "This data can also be used to run a regression analysis between depth and magnitude. Furthur if we collect data over a number of years, it can be used to do a time series analysis of the earthquake data."
   ]
  }
 ],
 "metadata": {
  "kernelspec": {
   "display_name": "Python 3 (ipykernel)",
   "language": "python",
   "name": "python3"
  },
  "language_info": {
   "codemirror_mode": {
    "name": "ipython",
    "version": 3
   },
   "file_extension": ".py",
   "mimetype": "text/x-python",
   "name": "python",
   "nbconvert_exporter": "python",
   "pygments_lexer": "ipython3",
   "version": "3.9.12"
  }
 },
 "nbformat": 4,
 "nbformat_minor": 5
}
